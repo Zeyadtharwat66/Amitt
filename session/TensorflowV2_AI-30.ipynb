{
 "cells": [
  {
   "cell_type": "code",
   "execution_count": 2,
   "id": "c107234b-55c3-4aca-b3a4-a7ee8981fb5d",
   "metadata": {},
   "outputs": [],
   "source": [
    "import tensorflow as tf \n"
   ]
  },
  {
   "cell_type": "code",
   "execution_count": 3,
   "id": "ea489cb5-e04d-4a1e-8bf8-fe2f5a5d5768",
   "metadata": {},
   "outputs": [
    {
     "data": {
      "text/plain": [
       "3"
      ]
     },
     "execution_count": 3,
     "metadata": {},
     "output_type": "execute_result"
    }
   ],
   "source": [
    "x1=tf.constant(1,name='constant 1')\n",
    "x2=tf.constant(2)\n",
    "x3=tf.add(x1,x2)\n",
    "x3.numpy()"
   ]
  },
  {
   "cell_type": "code",
   "execution_count": 4,
   "id": "fad1c659-06d6-4b63-9e08-be7981982ec7",
   "metadata": {},
   "outputs": [
    {
     "data": {
      "text/plain": [
       "<tf.Tensor: shape=(4,), dtype=int32, numpy=array([ 6,  8, 10, 12])>"
      ]
     },
     "execution_count": 4,
     "metadata": {},
     "output_type": "execute_result"
    }
   ],
   "source": [
    "v1=tf.constant([1,2,3,4])\n",
    "v2=tf.constant([5,6,7,8])\n",
    "v=v1+v2\n",
    "v"
   ]
  },
  {
   "cell_type": "code",
   "execution_count": 5,
   "id": "1eb35add-bf9c-4343-9a69-1291a0ad9f95",
   "metadata": {},
   "outputs": [
    {
     "data": {
      "text/plain": [
       "array([ 6,  8, 10, 12])"
      ]
     },
     "execution_count": 5,
     "metadata": {},
     "output_type": "execute_result"
    }
   ],
   "source": [
    "v.numpy()"
   ]
  },
  {
   "cell_type": "markdown",
   "id": "eb411949-3985-4203-abb3-103f9550b711",
   "metadata": {},
   "source": [
    "## Linear Regression "
   ]
  },
  {
   "cell_type": "code",
   "execution_count": 7,
   "id": "520d44be-caac-4649-8471-284a0503b393",
   "metadata": {},
   "outputs": [],
   "source": [
    "import pandas as pd\n",
    "import matplotlib.pyplot as plt "
   ]
  },
  {
   "cell_type": "code",
   "execution_count": 9,
   "id": "3363b9ce-7157-4c15-8963-6538d4e97e35",
   "metadata": {},
   "outputs": [
    {
     "data": {
      "text/html": [
       "<div>\n",
       "<style scoped>\n",
       "    .dataframe tbody tr th:only-of-type {\n",
       "        vertical-align: middle;\n",
       "    }\n",
       "\n",
       "    .dataframe tbody tr th {\n",
       "        vertical-align: top;\n",
       "    }\n",
       "\n",
       "    .dataframe thead th {\n",
       "        text-align: right;\n",
       "    }\n",
       "</style>\n",
       "<table border=\"1\" class=\"dataframe\">\n",
       "  <thead>\n",
       "    <tr style=\"text-align: right;\">\n",
       "      <th></th>\n",
       "      <th>MODELYEAR</th>\n",
       "      <th>Brands</th>\n",
       "      <th>VEHICLECLASS</th>\n",
       "      <th>ENGINESIZE</th>\n",
       "      <th>CYLINDERS</th>\n",
       "      <th>TRANSMISSION</th>\n",
       "      <th>FUELTYPE</th>\n",
       "      <th>FUELCONSUMPTION_CITY</th>\n",
       "      <th>FUELCONSUMPTION_HWY</th>\n",
       "      <th>FUELCONSUMPTION_COMB</th>\n",
       "      <th>FUELCONSUMPTION_COMB_MPG</th>\n",
       "      <th>CO2EMISSIONS</th>\n",
       "    </tr>\n",
       "  </thead>\n",
       "  <tbody>\n",
       "    <tr>\n",
       "      <th>0</th>\n",
       "      <td>2014</td>\n",
       "      <td>ACURA</td>\n",
       "      <td>COMPACT</td>\n",
       "      <td>2.0</td>\n",
       "      <td>4</td>\n",
       "      <td>AS5</td>\n",
       "      <td>Z</td>\n",
       "      <td>9.9</td>\n",
       "      <td>6.7</td>\n",
       "      <td>8.5</td>\n",
       "      <td>33</td>\n",
       "      <td>196</td>\n",
       "    </tr>\n",
       "    <tr>\n",
       "      <th>1</th>\n",
       "      <td>2014</td>\n",
       "      <td>ACURA</td>\n",
       "      <td>COMPACT</td>\n",
       "      <td>2.4</td>\n",
       "      <td>4</td>\n",
       "      <td>M6</td>\n",
       "      <td>Z</td>\n",
       "      <td>11.2</td>\n",
       "      <td>7.7</td>\n",
       "      <td>9.6</td>\n",
       "      <td>29</td>\n",
       "      <td>221</td>\n",
       "    </tr>\n",
       "    <tr>\n",
       "      <th>2</th>\n",
       "      <td>2014</td>\n",
       "      <td>ACURA</td>\n",
       "      <td>COMPACT</td>\n",
       "      <td>1.5</td>\n",
       "      <td>4</td>\n",
       "      <td>AV7</td>\n",
       "      <td>Z</td>\n",
       "      <td>6.0</td>\n",
       "      <td>5.8</td>\n",
       "      <td>5.9</td>\n",
       "      <td>48</td>\n",
       "      <td>136</td>\n",
       "    </tr>\n",
       "    <tr>\n",
       "      <th>3</th>\n",
       "      <td>2014</td>\n",
       "      <td>ACURA</td>\n",
       "      <td>SUV_SMALL</td>\n",
       "      <td>3.5</td>\n",
       "      <td>6</td>\n",
       "      <td>AS6</td>\n",
       "      <td>Z</td>\n",
       "      <td>12.7</td>\n",
       "      <td>9.1</td>\n",
       "      <td>11.1</td>\n",
       "      <td>25</td>\n",
       "      <td>255</td>\n",
       "    </tr>\n",
       "    <tr>\n",
       "      <th>4</th>\n",
       "      <td>2014</td>\n",
       "      <td>ACURA</td>\n",
       "      <td>SUV_SMALL</td>\n",
       "      <td>3.5</td>\n",
       "      <td>6</td>\n",
       "      <td>AS6</td>\n",
       "      <td>Z</td>\n",
       "      <td>12.1</td>\n",
       "      <td>8.7</td>\n",
       "      <td>10.6</td>\n",
       "      <td>27</td>\n",
       "      <td>244</td>\n",
       "    </tr>\n",
       "  </tbody>\n",
       "</table>\n",
       "</div>"
      ],
      "text/plain": [
       "   MODELYEAR Brands VEHICLECLASS  ENGINESIZE  CYLINDERS TRANSMISSION FUELTYPE  \\\n",
       "0       2014  ACURA      COMPACT         2.0          4          AS5        Z   \n",
       "1       2014  ACURA      COMPACT         2.4          4           M6        Z   \n",
       "2       2014  ACURA      COMPACT         1.5          4          AV7        Z   \n",
       "3       2014  ACURA    SUV_SMALL         3.5          6          AS6        Z   \n",
       "4       2014  ACURA    SUV_SMALL         3.5          6          AS6        Z   \n",
       "\n",
       "   FUELCONSUMPTION_CITY  FUELCONSUMPTION_HWY  FUELCONSUMPTION_COMB  \\\n",
       "0                   9.9                  6.7                   8.5   \n",
       "1                  11.2                  7.7                   9.6   \n",
       "2                   6.0                  5.8                   5.9   \n",
       "3                  12.7                  9.1                  11.1   \n",
       "4                  12.1                  8.7                  10.6   \n",
       "\n",
       "   FUELCONSUMPTION_COMB_MPG  CO2EMISSIONS  \n",
       "0                        33           196  \n",
       "1                        29           221  \n",
       "2                        48           136  \n",
       "3                        25           255  \n",
       "4                        27           244  "
      ]
     },
     "execution_count": 9,
     "metadata": {},
     "output_type": "execute_result"
    }
   ],
   "source": [
    "data=pd.read_csv(r'C:\\Users\\AMIT\\Downloads\\FuelConsumptionCo2.csv')\n",
    "data.head()"
   ]
  },
  {
   "cell_type": "code",
   "execution_count": 10,
   "id": "6c598308-fdb8-47de-b25b-f8e5a58da860",
   "metadata": {},
   "outputs": [],
   "source": [
    "X_d=data.loc[:,'ENGINESIZE'].values\n",
    "y_d=data.loc[:,'CO2EMISSIONS'].values\n"
   ]
  },
  {
   "cell_type": "markdown",
   "id": "a3271e06-d8fe-4b64-8147-4ff6d7e402b2",
   "metadata": {},
   "source": [
    "## Y=wx+b"
   ]
  },
  {
   "cell_type": "code",
   "execution_count": 32,
   "id": "d388fda3-b682-44a4-9684-5aeb640c3141",
   "metadata": {},
   "outputs": [],
   "source": [
    "X=tf.constant(X_d,dtype='float32')\n",
    "y=tf.constant(y_d,dtype='float32')\n",
    "\n",
    "w=tf.Variable(2.0,dtype='float32')\n",
    "b=tf.Variable(7.2,dtype='float32')"
   ]
  },
  {
   "cell_type": "code",
   "execution_count": 33,
   "id": "c108ac04-087b-48fb-8232-7c15481eab41",
   "metadata": {},
   "outputs": [],
   "source": [
    "# define H\n",
    "def H(X):\n",
    "    Y_P=w*X+b\n",
    "    return Y_P"
   ]
  },
  {
   "cell_type": "code",
   "execution_count": 34,
   "id": "05c92fe8-210f-42f5-8b19-54f641e125d8",
   "metadata": {},
   "outputs": [],
   "source": [
    "#cost function\n",
    "def cost_function(y_actual,y_pred):\n",
    "    mse=tf.reduce_mean(tf.square(y_actual-y_pred))#  1\\m sum (y_a-y_pr)^2\n",
    "    return mse"
   ]
  },
  {
   "cell_type": "code",
   "execution_count": 35,
   "id": "fbdd8941-b934-4dd0-ad2c-a0fe84b59778",
   "metadata": {},
   "outputs": [],
   "source": [
    "#train\n",
    "\n",
    "lr=0.01\n",
    "epochs=1000\n",
    "losses_values=[]\n",
    "for epoch in range(epochs):\n",
    "    with tf.GradientTape() as tape:\n",
    "        \n",
    "        y_pred=H(X)#feed forward\n",
    "        #back pro\n",
    "        loss=cost_function(y,y_pred)\n",
    "        losses_values.append(loss)\n",
    "        #updates \n",
    "        gradients=tape.gradient(loss,[w,b]) #[dl/dw ,dl/db]\n",
    "        \n",
    "        #w=w-lr*grad\n",
    "        w.assign_sub(lr*gradients[0])\n",
    "        b.assign_sub(lr*gradients[1])"
   ]
  },
  {
   "cell_type": "code",
   "execution_count": 36,
   "id": "e8c3a957-5584-4b0a-a468-501f41ef28b9",
   "metadata": {},
   "outputs": [
    {
     "data": {
      "text/plain": [
       "<tf.Tensor: shape=(), dtype=float32, numpy=951.58215>"
      ]
     },
     "execution_count": 36,
     "metadata": {},
     "output_type": "execute_result"
    }
   ],
   "source": [
    "loss"
   ]
  },
  {
   "cell_type": "code",
   "execution_count": 37,
   "id": "f72257fa-6b8e-4afd-94bf-915f3bc142ea",
   "metadata": {},
   "outputs": [
    {
     "data": {
      "image/png": "[encoded data removed]",
      "text/plain": [
       "<Figure size 640x480 with 1 Axes>"
      ]
     },
     "metadata": {},
     "output_type": "display_data"
    }
   ],
   "source": [
    "plt.plot(losses_values)\n",
    "plt.xlabel('Epochs')\n",
    "plt.ylabel('Loss')\n",
    "plt.show()"
   ]
  },
  {
   "cell_type": "code",
   "execution_count": 38,
   "id": "16a0b06f-9b82-4ef8-9fc8-ad9ab33e23e7",
   "metadata": {},
   "outputs": [
    {
     "data": {
      "image/png": "[encoded data removed]",
      "text/plain": [
       "<Figure size 2000x800 with 1 Axes>"
      ]
     },
     "metadata": {},
     "output_type": "display_data"
    }
   ],
   "source": [
    "plt.figure(figsize=(20,8))\n",
    "plt.scatter(X.numpy(),y.numpy(),c='red')\n",
    "plt.plot(X.numpy(),w*X.numpy()+b)\n",
    "plt.show()"
   ]
  },
  {
   "cell_type": "code",
   "execution_count": 52,
   "id": "9aa2016d-aa49-4e27-a409-3e981d99c83a",
   "metadata": {},
   "outputs": [],
   "source": [
    "X=data.iloc[:,[3,4,7]].values\n",
    "y=data.iloc[:,-1].values"
   ]
  },
  {
   "cell_type": "code",
   "execution_count": 53,
   "id": "42fec83d-9ebb-49ae-a5bb-1ff3cfe135ce",
   "metadata": {},
   "outputs": [
    {
     "data": {
      "text/plain": [
       "(1067, 3)"
      ]
     },
     "execution_count": 53,
     "metadata": {},
     "output_type": "execute_result"
    }
   ],
   "source": [
    "X.shape"
   ]
  },
  {
   "cell_type": "markdown",
   "id": "88d534ee-6727-4851-9028-bd1a0e82972d",
   "metadata": {},
   "source": [
    "##  Model "
   ]
  },
  {
   "cell_type": "code",
   "execution_count": 54,
   "id": "81c79c49-797b-43ec-9305-96188db00016",
   "metadata": {},
   "outputs": [],
   "source": [
    "from tensorflow.keras.models import Sequential\n",
    "from tensorflow.keras.layers import Dense"
   ]
  },
  {
   "cell_type": "code",
   "execution_count": 55,
   "id": "f2c57c13-f6aa-444e-89e4-388fa8dea5dd",
   "metadata": {},
   "outputs": [],
   "source": [
    "model=Sequential()\n",
    "model.add(Dense(units=3,activation='relu',input_shape=(3,)))\n",
    "model.add(Dense(units=3,activation='relu'))\n",
    "model.add(Dense(units=1))"
   ]
  },
  {
   "cell_type": "code",
   "execution_count": 56,
   "id": "9584ecf3-f1b8-464b-aec9-071fb7e89b63",
   "metadata": {},
   "outputs": [
    {
     "name": "stdout",
     "output_type": "stream",
     "text": [
      "Model: \"sequential_2\"\n",
      "_________________________________________________________________\n",
      " Layer (type)                Output Shape              Param #   \n",
      "=================================================================\n",
      " dense_6 (Dense)             (None, 3)                 12        \n",
      "                                                                 \n",
      " dense_7 (Dense)             (None, 3)                 12        \n",
      "                                                                 \n",
      " dense_8 (Dense)             (None, 1)                 4         \n",
      "                                                                 \n",
      "=================================================================\n",
      "Total params: 28\n",
      "Trainable params: 28\n",
      "Non-trainable params: 0\n",
      "_________________________________________________________________\n"
     ]
    }
   ],
   "source": [
    "model.summary()"
   ]
  },
  {
   "cell_type": "code",
   "execution_count": 57,
   "id": "c580ed2c-b48b-4f2a-8ffa-98c40aa5f070",
   "metadata": {},
   "outputs": [],
   "source": [
    "model.compile(loss='mse',optimizer='sgd')"
   ]
  },
  {
   "cell_type": "code",
   "execution_count": 58,
   "id": "a684adbf-7b20-4570-ac1a-24cbbcce94b5",
   "metadata": {},
   "outputs": [
    {
     "name": "stdout",
     "output_type": "stream",
     "text": [
      "Epoch 1/2\n",
      "1/1 [==============================] - 1s 1s/step - loss: 67451.0234\n",
      "Epoch 2/2\n",
      "1/1 [==============================] - 0s 20ms/step - loss: 450920218624.0000\n"
     ]
    },
    {
     "data": {
      "text/plain": [
       "<keras.callbacks.History at 0x1db4ba20520>"
      ]
     },
     "execution_count": 58,
     "metadata": {},
     "output_type": "execute_result"
    }
   ],
   "source": [
    "model.fit(X,y,epochs=2,batch_size=32)"
   ]
  },
  {
   "cell_type": "code",
   "execution_count": 59,
   "id": "9225f9d8-4694-4f92-af9f-961863d4dcd6",
   "metadata": {},
   "outputs": [],
   "source": [
    "from tensorflow.keras.models import Model\n",
    "from tensorflow.keras.layers import Dense,Input"
   ]
  },
  {
   "cell_type": "code",
   "execution_count": 60,
   "id": "de9950ab-067a-41e6-905f-651814cbb3e0",
   "metadata": {},
   "outputs": [
    {
     "name": "stdout",
     "output_type": "stream",
     "text": [
      "Model: \"model\"\n",
      "_________________________________________________________________\n",
      " Layer (type)                Output Shape              Param #   \n",
      "=================================================================\n",
      " input_1 (InputLayer)        [(None, 3)]               0         \n",
      "                                                                 \n",
      " dense_9 (Dense)             (None, 3)                 12        \n",
      "                                                                 \n",
      " dense_10 (Dense)            (None, 3)                 12        \n",
      "                                                                 \n",
      " dense_11 (Dense)            (None, 1)                 4         \n",
      "                                                                 \n",
      "=================================================================\n",
      "Total params: 28\n",
      "Trainable params: 28\n",
      "Non-trainable params: 0\n",
      "_________________________________________________________________\n"
     ]
    }
   ],
   "source": [
    "#model\n",
    "inp=Input(shape=(3,)) #input layer \n",
    "h1=Dense(3,activation='relu')(inp)\n",
    "h2=Dense(3,activation='relu')(h1)\n",
    "out=Dense(1)(h2)\n",
    "model=Model(inputs=inp,outputs=out)\n",
    "model.summary()"
   ]
  },
  {
   "cell_type": "code",
   "execution_count": 61,
   "id": "67b4201d-482a-43cf-a6e2-0f43d4715bde",
   "metadata": {},
   "outputs": [
    {
     "name": "stdout",
     "output_type": "stream",
     "text": [
      "Epoch 1/2\n",
      "9/9 [==============================] - 1s 2ms/step - loss: 60860.6992\n",
      "Epoch 2/2\n",
      "9/9 [==============================] - 0s 2ms/step - loss: 43547.9141\n"
     ]
    },
    {
     "data": {
      "text/plain": [
       "<keras.callbacks.History at 0x1db4babe0d0>"
      ]
     },
     "execution_count": 61,
     "metadata": {},
     "output_type": "execute_result"
    }
   ],
   "source": [
    "model.compile(loss='mse',optimizer='sgd')\n",
    "model.fit(X,y,epochs=2,batch_size=128)"
   ]
  },
  {
   "cell_type": "code",
   "execution_count": 62,
   "id": "d0d76475-3529-4e93-91ce-195d199f9b72",
   "metadata": {},
   "outputs": [
    {
     "data": {
      "text/plain": [
       "'2.10.0'"
      ]
     },
     "execution_count": 62,
     "metadata": {},
     "output_type": "execute_result"
    }
   ],
   "source": [
    "tf.__version__"
   ]
  },
  {
   "cell_type": "code",
   "execution_count": null,
   "id": "cc5e1edd-e58b-416b-a888-73aae96978d2",
   "metadata": {},
   "outputs": [],
   "source": []
  }
 ],
 "metadata": {
  "kernelspec": {
   "display_name": "Python 3 (ipykernel)",
   "language": "python",
   "name": "python3"
  },
  "language_info": {
   "codemirror_mode": {
    "name": "ipython",
    "version": 3
   },
   "file_extension": ".py",
   "mimetype": "text/x-python",
   "name": "python",
   "nbconvert_exporter": "python",
   "pygments_lexer": "ipython3",
   "version": "3.9.13"
  }
 },
 "nbformat": 4,
 "nbformat_minor": 5
}
