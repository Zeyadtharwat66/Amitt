{
 "cells": [
  {
   "cell_type": "markdown",
   "metadata": {
    "id": "FzmFEVNuyrJM"
   },
   "source": [
    "**While Loops**"
   ]
  },
  {
   "cell_type": "code",
   "execution_count": null,
   "metadata": {
    "id": "zCgwySK2yu8P"
   },
   "outputs": [],
   "source": [
    "cnt = 0\n",
    "while cnt < 10:\n",
    "  print(cnt)\n",
    "  cnt = cnt + 1"
   ]
  },
  {
   "cell_type": "markdown",
   "metadata": {
    "id": "wO09HwgU0tye"
   },
   "source": [
    "**break**"
   ]
  },
  {
   "cell_type": "code",
   "execution_count": null,
   "metadata": {
    "id": "jeqkJReK0JZ9"
   },
   "outputs": [],
   "source": [
    "while True:\n",
    "  x = input()\n",
    "  if x == \"\":\n",
    "    break\n",
    "  print(x)"
   ]
  },
  {
   "cell_type": "markdown",
   "metadata": {
    "id": "BBEtMB1Z0wvA"
   },
   "source": [
    "**continue**"
   ]
  },
  {
   "cell_type": "code",
   "execution_count": null,
   "metadata": {
    "id": "AGW_4G_m0pLo"
   },
   "outputs": [],
   "source": [
    "while True:\n",
    "  x = input()\n",
    "  if x == \"\":\n",
    "    continue\n",
    "  print(x)"
   ]
  },
  {
   "cell_type": "markdown",
   "metadata": {
    "id": "8-dII7D3sUP7"
   },
   "source": [
    "# Functions"
   ]
  },
  {
   "cell_type": "code",
   "execution_count": 2,
   "metadata": {
    "colab": {
     "base_uri": "https://localhost:8080/"
    },
    "id": "qbV4491tsWLW",
    "outputId": "8891db06-3fd5-4bcd-8e4e-69b5bb6b7531"
   },
   "outputs": [
    {
     "name": "stdout",
     "output_type": "stream",
     "text": [
      "welcome\n"
     ]
    }
   ],
   "source": [
    "def fun(x):\n",
    "  print(x)\n",
    "\n",
    "fun(\"welcome\")"
   ]
  },
  {
   "cell_type": "code",
   "execution_count": 72,
   "metadata": {
    "colab": {
     "base_uri": "https://localhost:8080/"
    },
    "id": "y8ovd_LnsYrK",
    "outputId": "03d61c21-5fb3-48d1-a4e3-c819e73fb66d"
   },
   "outputs": [
    {
     "name": "stdout",
     "output_type": "stream",
     "text": [
      "Amit\n"
     ]
    }
   ],
   "source": [
    "def fun(x = \"Amit\"):\n",
    "  print(x)\n",
    "\n",
    "fun()"
   ]
  },
  {
   "cell_type": "markdown",
   "metadata": {
    "id": "Gc43xIlhslL2"
   },
   "source": [
    "***Args**"
   ]
  },
  {
   "cell_type": "code",
   "execution_count": 75,
   "metadata": {
    "colab": {
     "base_uri": "https://localhost:8080/"
    },
    "id": "bm8bbyausuSP",
    "outputId": "e29daf78-f468-4519-a472-040b24e07805"
   },
   "outputs": [
    {
     "name": "stdout",
     "output_type": "stream",
     "text": [
      "5\n",
      "Ali\n",
      "[1, 2]\n"
     ]
    }
   ],
   "source": [
    "def fun(*arguments):\n",
    "  for argument in arguments:\n",
    "    print(argument)\n",
    "\n",
    "fun(5, \"Ali\", [1, 2])"
   ]
  },
  {
   "cell_type": "markdown",
   "metadata": {
    "id": "UL_f2s7ytqX7"
   },
   "source": [
    "**Recursion**"
   ]
  },
  {
   "cell_type": "code",
   "execution_count": 76,
   "metadata": {
    "colab": {
     "base_uri": "https://localhost:8080/"
    },
    "id": "4pTSdWo6tsfE",
    "outputId": "eb57a87b-e236-4d67-819f-8cb3784644c7"
   },
   "outputs": [
    {
     "data": {
      "text/plain": [
       "15"
      ]
     },
     "execution_count": 76,
     "metadata": {},
     "output_type": "execute_result"
    }
   ],
   "source": [
    "def fun(x):\n",
    "  if x <= 1:\n",
    "    return x\n",
    "  return x + fun(x-1)\n",
    "fun(5)"
   ]
  },
  {
   "cell_type": "markdown",
   "metadata": {
    "id": "-nwnf7dt3VF6"
   },
   "source": [
    "# Lambda functions"
   ]
  },
  {
   "cell_type": "markdown",
   "metadata": {
    "id": "Z_fvBnHV1_GR"
   },
   "source": [
    "## Map, Filter, and Lambda function"
   ]
  },
  {
   "cell_type": "markdown",
   "metadata": {
    "id": "lUVgySWGlmRz"
   },
   "source": [
    "**You can use it independently**"
   ]
  },
  {
   "cell_type": "code",
   "execution_count": null,
   "metadata": {
    "id": "0MFN5uuelmRz",
    "outputId": "bf6edc95-5ac4-4563-e6fe-038960a9dc38"
   },
   "outputs": [
    {
     "data": {
      "text/plain": [
       "7"
      ]
     },
     "execution_count": 6,
     "metadata": {},
     "output_type": "execute_result"
    }
   ],
   "source": [
    "addition = lambda x, y: x + y\n",
    "addition(3, 4)"
   ]
  },
  {
   "cell_type": "markdown",
   "metadata": {},
   "source": [
    "**Filter**"
   ]
  },
  {
   "cell_type": "code",
   "execution_count": 9,
   "metadata": {
    "id": "jJ0gEwXIlmR1",
    "scrolled": true
   },
   "outputs": [],
   "source": [
    "def check_even(n):\n",
    "    return n % 2 == 0"
   ]
  },
  {
   "cell_type": "code",
   "execution_count": 4,
   "metadata": {
    "id": "qV47PRNelmR1",
    "outputId": "96cec11c-7ece-42fe-dd6e-acec86a717c0"
   },
   "outputs": [
    {
     "data": {
      "text/plain": [
       "[2, 4]"
      ]
     },
     "execution_count": 4,
     "metadata": {},
     "output_type": "execute_result"
    }
   ],
   "source": [
    "def my_filter(fun, lst):\n",
    "    new_lst =[]\n",
    "    for i in lst:\n",
    "        if fun(i):\n",
    "            new_lst.append(i)\n",
    "    return new_lst\n",
    "\n",
    "my_list = [1, 2 ,3 ,4, 5]\n",
    "my_filter(check_even, my_list)"
   ]
  },
  {
   "cell_type": "markdown",
   "metadata": {},
   "source": [
    "**Map**"
   ]
  },
  {
   "cell_type": "code",
   "execution_count": 12,
   "metadata": {},
   "outputs": [],
   "source": [
    "def sq(x):\n",
    "    return x ** 2"
   ]
  },
  {
   "cell_type": "code",
   "execution_count": 13,
   "metadata": {
    "id": "weecycGZlmR2",
    "outputId": "3ad3923d-666e-4141-819e-f527a72eb1eb",
    "scrolled": true
   },
   "outputs": [
    {
     "data": {
      "text/plain": [
       "[1, 4, 9, 16, 25]"
      ]
     },
     "execution_count": 13,
     "metadata": {},
     "output_type": "execute_result"
    }
   ],
   "source": [
    "def my_map(fun, lst):\n",
    "    new_lst =[]\n",
    "    for i in lst:\n",
    "        new_lst.append(fun(i))\n",
    "    return new_lst\n",
    "\n",
    "my_list = [1, 2 ,3 ,4, 5]\n",
    "my_map(sq, my_list)"
   ]
  },
  {
   "cell_type": "markdown",
   "metadata": {},
   "source": [
    "**lambda function**"
   ]
  },
  {
   "cell_type": "code",
   "execution_count": null,
   "metadata": {
    "id": "zGZWBeTb3XNi"
   },
   "outputs": [],
   "source": [
    "def check_even(n): return n % 2 == 0"
   ]
  },
  {
   "cell_type": "code",
   "execution_count": 15,
   "metadata": {
    "scrolled": true
   },
   "outputs": [
    {
     "data": {
      "text/plain": [
       "True"
      ]
     },
     "execution_count": 15,
     "metadata": {},
     "output_type": "execute_result"
    }
   ],
   "source": [
    "check_even = lambda n: n % 2 == 0\n",
    "check_even(50)"
   ]
  },
  {
   "cell_type": "code",
   "execution_count": 18,
   "metadata": {},
   "outputs": [
    {
     "data": {
      "text/plain": [
       "[2, 4]"
      ]
     },
     "execution_count": 18,
     "metadata": {},
     "output_type": "execute_result"
    }
   ],
   "source": [
    "filtered = filter(check_even, my_list)\n",
    "list(filtered)"
   ]
  },
  {
   "cell_type": "markdown",
   "metadata": {},
   "source": [
    "**Lambda function and Filter**"
   ]
  },
  {
   "cell_type": "code",
   "execution_count": 20,
   "metadata": {},
   "outputs": [
    {
     "data": {
      "text/plain": [
       "[2, 4]"
      ]
     },
     "execution_count": 20,
     "metadata": {},
     "output_type": "execute_result"
    }
   ],
   "source": [
    "my_list = [1, 2 ,3 ,4, 5]\n",
    "filtered = filter(lambda n: n % 2 == 0, my_list)\n",
    "list(filtered)"
   ]
  },
  {
   "cell_type": "markdown",
   "metadata": {},
   "source": [
    "**Lambda function and map**"
   ]
  },
  {
   "cell_type": "code",
   "execution_count": 21,
   "metadata": {},
   "outputs": [
    {
     "data": {
      "text/plain": [
       "[1, 4, 9, 16, 25]"
      ]
     },
     "execution_count": 21,
     "metadata": {},
     "output_type": "execute_result"
    }
   ],
   "source": [
    "my_list = [1, 2 ,3 ,4, 5]\n",
    "mapped = map(lambda n: n**2, my_list)\n",
    "list(mapped)"
   ]
  },
  {
   "cell_type": "markdown",
   "metadata": {
    "id": "LKn0s7kuy7O2"
   },
   "source": [
    "# Pass Keyword\n",
    "\n",
    "Acts as a placeholder"
   ]
  },
  {
   "cell_type": "code",
   "execution_count": 89,
   "metadata": {
    "id": "2m-7ql8uy9Fw"
   },
   "outputs": [],
   "source": [
    "def fun(name, age, salary):\n",
    "  pass"
   ]
  },
  {
   "cell_type": "markdown",
   "metadata": {},
   "source": [
    "**useful in commenting**"
   ]
  },
  {
   "cell_type": "code",
   "execution_count": 41,
   "metadata": {},
   "outputs": [],
   "source": [
    "\"\"\"\n",
    "this is a comment which I don't want to display\n",
    "Thank you\n",
    "\"\"\"\n",
    "pass"
   ]
  },
  {
   "cell_type": "markdown",
   "metadata": {
    "id": "ueiXIux2yQwQ"
   },
   "source": [
    "# Scopes"
   ]
  },
  {
   "cell_type": "markdown",
   "metadata": {},
   "source": [
    "**Global**"
   ]
  },
  {
   "cell_type": "code",
   "execution_count": 46,
   "metadata": {
    "id": "R0w7bZD7yTyB"
   },
   "outputs": [
    {
     "name": "stdout",
     "output_type": "stream",
     "text": [
      "inside: global\n",
      "outside: global\n"
     ]
    }
   ],
   "source": [
    "x = \"global\"\n",
    "\n",
    "def fun():\n",
    "    print(\"inside:\", x)\n",
    "    \n",
    "fun()\n",
    "print(\"outside:\", x)"
   ]
  },
  {
   "cell_type": "markdown",
   "metadata": {},
   "source": [
    "**Local**"
   ]
  },
  {
   "cell_type": "code",
   "execution_count": 47,
   "metadata": {},
   "outputs": [
    {
     "name": "stdout",
     "output_type": "stream",
     "text": [
      "inside: local\n",
      "outside: global\n"
     ]
    }
   ],
   "source": [
    "x = \"global\"\n",
    "\n",
    "def fun():\n",
    "    x = \"local\"\n",
    "    print(\"inside:\", x)\n",
    "    \n",
    "fun()\n",
    "print(\"outside:\", x)"
   ]
  },
  {
   "cell_type": "code",
   "execution_count": 49,
   "metadata": {
    "scrolled": false
   },
   "outputs": [
    {
     "name": "stdout",
     "output_type": "stream",
     "text": [
      "inside: changed\n",
      "outside: changed\n"
     ]
    }
   ],
   "source": [
    "x = \"global\"\n",
    "\n",
    "def fun():\n",
    "    global x\n",
    "    x = \"changed\"\n",
    "    print(\"inside:\", x)\n",
    "    \n",
    "fun()\n",
    "print(\"outside:\", x)"
   ]
  },
  {
   "cell_type": "markdown",
   "metadata": {},
   "source": [
    "**nonlocal**"
   ]
  },
  {
   "cell_type": "code",
   "execution_count": 51,
   "metadata": {},
   "outputs": [
    {
     "name": "stdout",
     "output_type": "stream",
     "text": [
      "inside inner func: inner_local\n",
      "inside outer func: outer_local\n",
      "outside any func: global\n"
     ]
    }
   ],
   "source": [
    "x = \"global\"\n",
    "\n",
    "def outer_fun():\n",
    "    x = \"outer_local\"\n",
    "    \n",
    "    def inner_fun():\n",
    "        x = \"inner_local\"\n",
    "        print(\"inside inner func:\", x)\n",
    "    \n",
    "    inner_fun()\n",
    "    print(\"inside outer func:\", x)\n",
    "    \n",
    "outer_fun()\n",
    "print(\"outside any func:\", x)"
   ]
  },
  {
   "cell_type": "code",
   "execution_count": 53,
   "metadata": {},
   "outputs": [
    {
     "name": "stdout",
     "output_type": "stream",
     "text": [
      "inside inner func: changed\n",
      "inside outer func: outer_local\n",
      "outside any func: changed\n"
     ]
    }
   ],
   "source": [
    "x = \"global\"\n",
    "\n",
    "def outer_fun():\n",
    "    x = \"outer_local\"\n",
    "    \n",
    "    def inner_fun():\n",
    "        global x\n",
    "        x = \"changed\"\n",
    "        print(\"inside inner func:\", x)\n",
    "    \n",
    "    inner_fun()\n",
    "    print(\"inside outer func:\", x)\n",
    "    \n",
    "outer_fun()\n",
    "print(\"outside any func:\", x)"
   ]
  },
  {
   "cell_type": "code",
   "execution_count": 52,
   "metadata": {},
   "outputs": [
    {
     "name": "stdout",
     "output_type": "stream",
     "text": [
      "inside inner func: changed\n",
      "inside outer func: changed\n",
      "outside any func: global\n"
     ]
    }
   ],
   "source": [
    "x = \"global\"\n",
    "\n",
    "def outer_fun():\n",
    "    x = \"outer_local\"\n",
    "    \n",
    "    def inner_fun():\n",
    "        nonlocal x\n",
    "        x = \"changed\"\n",
    "        print(\"inside inner func:\", x)\n",
    "    \n",
    "    inner_fun()\n",
    "    print(\"inside outer func:\", x)\n",
    "    \n",
    "outer_fun()\n",
    "print(\"outside any func:\", x)"
   ]
  },
  {
   "cell_type": "markdown",
   "metadata": {
    "id": "-VSmXzhAvg0F"
   },
   "source": [
    "# Exceptions\n",
    "\n",
    "exception are errors that occurs during runtime"
   ]
  },
  {
   "cell_type": "code",
   "execution_count": 95,
   "metadata": {
    "colab": {
     "base_uri": "https://localhost:8080/"
    },
    "id": "_SHJ-3Uf2m98",
    "outputId": "3d8b5469-adfe-49c2-d2fd-2a0f21cc74e9"
   },
   "outputs": [
    {
     "name": "stdout",
     "output_type": "stream",
     "text": [
      "something went wrong\n"
     ]
    }
   ],
   "source": [
    "try:\n",
    "  5/0\n",
    "except:\n",
    "  print(\"something went wrong\")"
   ]
  },
  {
   "cell_type": "code",
   "execution_count": 87,
   "metadata": {
    "colab": {
     "base_uri": "https://localhost:8080/"
    },
    "id": "Lq4zfl-UxwPL",
    "outputId": "eb60a436-fc6e-453c-a33b-8a3929cc55ac"
   },
   "outputs": [
    {
     "name": "stdout",
     "output_type": "stream",
     "text": [
      "0\n",
      "Division By zero\n"
     ]
    }
   ],
   "source": [
    "try:\n",
    "  x = 10\n",
    "  y = int(input())\n",
    "  x / y\n",
    "except:\n",
    "  print('Division By zero')"
   ]
  },
  {
   "cell_type": "markdown",
   "metadata": {
    "id": "PB1QkGNT3Gvm"
   },
   "source": [
    "**Display exception message**"
   ]
  },
  {
   "cell_type": "code",
   "execution_count": 98,
   "metadata": {
    "colab": {
     "base_uri": "https://localhost:8080/"
    },
    "id": "SWdZ9-ss2uua",
    "outputId": "62da3fad-80c5-4c91-c624-173c2a641a74"
   },
   "outputs": [
    {
     "name": "stdout",
     "output_type": "stream",
     "text": [
      "division by zero\n"
     ]
    }
   ],
   "source": [
    "try:\n",
    "  5/0\n",
    "except Exception as e:\n",
    "  print(e)"
   ]
  },
  {
   "cell_type": "markdown",
   "metadata": {
    "id": "Q0gA50EA3OSI"
   },
   "source": [
    "**try, except, finally**"
   ]
  },
  {
   "cell_type": "code",
   "execution_count": 88,
   "metadata": {
    "colab": {
     "base_uri": "https://localhost:8080/"
    },
    "id": "w6Rli4gZvjVr",
    "outputId": "6a2e0a58-67eb-4b8a-ad4a-1ce4e8544a97"
   },
   "outputs": [
    {
     "name": "stdout",
     "output_type": "stream",
     "text": [
      "0\n",
      "Division By zero\n",
      "Done\n"
     ]
    }
   ],
   "source": [
    "try:\n",
    "  x = 10\n",
    "  y = int(input())\n",
    "  x / y\n",
    "except:\n",
    "  print('Division By zero')\n",
    "finally:\n",
    "  print(\"Done\")"
   ]
  },
  {
   "cell_type": "markdown",
   "metadata": {
    "id": "mvY3wd7bikJz"
   },
   "source": [
    "# Modules\n"
   ]
  },
  {
   "cell_type": "markdown",
   "metadata": {
    "id": "G7bIJhPGksp-"
   },
   "source": [
    "**How to import**"
   ]
  },
  {
   "cell_type": "code",
   "execution_count": 46,
   "metadata": {
    "colab": {
     "base_uri": "https://localhost:8080/"
    },
    "id": "Wi4d-aGujYEU",
    "outputId": "669e7b64-ccd7-416f-f883-02d929f99fe6"
   },
   "outputs": [
    {
     "data": {
      "text/plain": [
       "9"
      ]
     },
     "execution_count": 46,
     "metadata": {},
     "output_type": "execute_result"
    }
   ],
   "source": [
    "import random\n",
    "\n",
    "random.randint(0, 10)"
   ]
  },
  {
   "cell_type": "code",
   "execution_count": 49,
   "metadata": {
    "colab": {
     "base_uri": "https://localhost:8080/"
    },
    "id": "sGgt2g31kr77",
    "outputId": "28502c12-44f2-499c-a6d4-500b3c61979f"
   },
   "outputs": [
    {
     "data": {
      "text/plain": [
       "5"
      ]
     },
     "execution_count": 49,
     "metadata": {},
     "output_type": "execute_result"
    }
   ],
   "source": [
    "from random import randint\n",
    "\n",
    "randint(0, 10)"
   ]
  },
  {
   "cell_type": "markdown",
   "metadata": {
    "id": "0M2KQX-yjhGS"
   },
   "source": [
    "**Get random number between 0 and 1**"
   ]
  },
  {
   "cell_type": "code",
   "execution_count": 27,
   "metadata": {
    "colab": {
     "base_uri": "https://localhost:8080/"
    },
    "id": "kJ1IQF9AjdHX",
    "outputId": "446e1849-f951-4f9f-e255-d48e4a10cbec"
   },
   "outputs": [
    {
     "data": {
      "text/plain": [
       "0.2140805897564192"
      ]
     },
     "execution_count": 27,
     "metadata": {},
     "output_type": "execute_result"
    }
   ],
   "source": [
    "random.random()"
   ]
  },
  {
   "cell_type": "markdown",
   "metadata": {
    "id": "kDaVgzSSjvkO"
   },
   "source": [
    "**Get random int value, where (0=< number <=10)**"
   ]
  },
  {
   "cell_type": "code",
   "execution_count": 43,
   "metadata": {
    "colab": {
     "base_uri": "https://localhost:8080/"
    },
    "id": "IANvNNvtj3p9",
    "outputId": "b7191eb9-1a19-4330-e5a4-5b448b367fab"
   },
   "outputs": [
    {
     "data": {
      "text/plain": [
       "10"
      ]
     },
     "execution_count": 43,
     "metadata": {},
     "output_type": "execute_result"
    }
   ],
   "source": [
    "random.randint(1, 10)"
   ]
  },
  {
   "cell_type": "markdown",
   "metadata": {
    "id": "Cq5h7MQGkW9Q"
   },
   "source": [
    "**Get random int value, where (0=< number <10)**"
   ]
  },
  {
   "cell_type": "code",
   "execution_count": 44,
   "metadata": {
    "colab": {
     "base_uri": "https://localhost:8080/"
    },
    "id": "QcSOPPrwkW9R",
    "outputId": "87786dc5-8261-42cf-daac-f5f3c79a798b"
   },
   "outputs": [
    {
     "data": {
      "text/plain": [
       "2"
      ]
     },
     "execution_count": 44,
     "metadata": {},
     "output_type": "execute_result"
    }
   ],
   "source": [
    "random.randrange(1, 10)"
   ]
  },
  {
   "cell_type": "markdown",
   "metadata": {},
   "source": [
    "**Choose randomly from a list**"
   ]
  },
  {
   "cell_type": "code",
   "execution_count": null,
   "metadata": {},
   "outputs": [],
   "source": [
    "# choose one element randomly\n",
    "lst = [\"Ahmed\", \"Ali\", \"Omar\", 1, 3, 8]\n",
    "random.choice(lst)"
   ]
  },
  {
   "cell_type": "code",
   "execution_count": null,
   "metadata": {},
   "outputs": [],
   "source": [
    "# choose many elements randomly\n",
    "lst = [\"Ahmed\", \"Ali\", \"Omar\", 1, 3, 8]\n",
    "random.choices(lst, k=4)"
   ]
  },
  {
   "cell_type": "markdown",
   "metadata": {},
   "source": [
    "**os Module**"
   ]
  },
  {
   "cell_type": "code",
   "execution_count": 23,
   "metadata": {
    "id": "qTtGMicQUb1M"
   },
   "outputs": [],
   "source": [
    "import os"
   ]
  },
  {
   "cell_type": "markdown",
   "metadata": {},
   "source": [
    "**List content of a directory**"
   ]
  },
  {
   "cell_type": "code",
   "execution_count": 33,
   "metadata": {
    "id": "Q-i8sq1OUb1N"
   },
   "outputs": [
    {
     "data": {
      "text/plain": [
       "['Assignments', 'Session 1', 'Session 2', 'Session 3', 'Session 4', 'tmp.txt']"
      ]
     },
     "execution_count": 33,
     "metadata": {},
     "output_type": "execute_result"
    }
   ],
   "source": [
    "base_dir = \"C:/Users/AMIT/Desktop/Sessions/Python Sessions/Students Sessions/Python Sessions\"\n",
    "file_names = os.listdir(base_dir)\n",
    "file_names"
   ]
  },
  {
   "cell_type": "markdown",
   "metadata": {},
   "source": [
    "**join pathes**"
   ]
  },
  {
   "cell_type": "code",
   "execution_count": 36,
   "metadata": {},
   "outputs": [
    {
     "data": {
      "text/plain": [
       "'C:/Users/AMIT/Desktop/Sessions/Python Sessions/Students Sessions/Python Sessions\\\\tmp.txt'"
      ]
     },
     "execution_count": 36,
     "metadata": {},
     "output_type": "execute_result"
    }
   ],
   "source": [
    "base_dir = \"C:/Users/AMIT/Desktop/Sessions/Python Sessions/Students Sessions/Python Sessions\"\n",
    "file_name = \"tmp.txt\"\n",
    "file_path = os.path.join(base_dir, file_name)\n",
    "file_path"
   ]
  },
  {
   "cell_type": "markdown",
   "metadata": {},
   "source": [
    "**remove file**"
   ]
  },
  {
   "cell_type": "code",
   "execution_count": 37,
   "metadata": {
    "id": "x7k6-nXDUb1Q"
   },
   "outputs": [],
   "source": [
    "base_dir = \"C:/Users/AMIT/Desktop/Sessions/Python Sessions/Students Sessions/Python Sessions\"\n",
    "file_name = \"tmp.txt\"\n",
    "file_path = os.path.join(base_dir, file_name)\n",
    "\n",
    "os.remove(file_path)"
   ]
  },
  {
   "cell_type": "markdown",
   "metadata": {},
   "source": [
    "**add new directory**"
   ]
  },
  {
   "cell_type": "code",
   "execution_count": 38,
   "metadata": {
    "scrolled": false
   },
   "outputs": [],
   "source": [
    "import os\n",
    "\n",
    "directory = \"C:/Users/AMIT/Desktop/Sessions/Python Sessions/Students Sessions/Python Sessions/tmp_directory\"\n",
    "\n",
    "\n",
    "if not os.path.exists(directory):\n",
    "    os.makedirs(directory)\n",
    "else:\n",
    "    print(\"Directory already exists:\", directory)"
   ]
  },
  {
   "cell_type": "markdown",
   "metadata": {},
   "source": [
    "**Assignment 1**\n",
    "\n",
    "write a code that creates a directory, then create another 20 directories inside this directory"
   ]
  },
  {
   "cell_type": "code",
   "execution_count": 58,
   "metadata": {},
   "outputs": [],
   "source": [
    "import os \n",
    "\n",
    "path = \"tmp_directory\"\n",
    "\n",
    "if not os.path.exists(path):\n",
    "    os.makedirs(path)\n",
    "for i in range(20):\n",
    "    inner_path = os.path.join(path, \"dir_\" + str(i))\n",
    "    if not os.path.exists(inner_path):\n",
    "        os.makedirs(inner_path)"
   ]
  },
  {
   "cell_type": "markdown",
   "metadata": {
    "id": "rrqL7RVtUb0Z"
   },
   "source": [
    "# File Handling\n",
    "### file modes\n",
    "1. “r” --> **read mode**: reads the content of the file.\n",
    "2. “a” --> **append mode**: creates the file if not exists, without overwriting its content\n",
    "3. “w” --> **write mode**: creates the file if not exists, and overwrite its content.\n",
    "4. “x” --> **excute mode**: creates the file only, and if it exists it will raise an error."
   ]
  },
  {
   "cell_type": "markdown",
   "metadata": {
    "id": "Tsc8EbzXWNqP"
   },
   "source": [
    "**Read a file**"
   ]
  },
  {
   "cell_type": "code",
   "execution_count": null,
   "metadata": {
    "id": "qtNfuvLKUb01"
   },
   "outputs": [],
   "source": [
    "f = open(\"test.txt\", \"r\") # \"C:/Users/ahmed/Desktop/test.txt\"\n",
    "print(f.read())\n",
    "f.close()"
   ]
  },
  {
   "cell_type": "markdown",
   "metadata": {
    "id": "sKlhqiPRUb1B"
   },
   "source": [
    "**read Line by Line**"
   ]
  },
  {
   "cell_type": "code",
   "execution_count": null,
   "metadata": {
    "id": "Lrzl7alOUb1E"
   },
   "outputs": [],
   "source": [
    "f = open(\"test.txt\", \"r\")\n",
    "all_lines = f.readlines()\n",
    "\n",
    "for line in all_lines:\n",
    "     print(line)"
   ]
  },
  {
   "cell_type": "markdown",
   "metadata": {
    "id": "oIMdFHyrlmab"
   },
   "source": [
    "**Open a file using 'with' clause**"
   ]
  },
  {
   "cell_type": "code",
   "execution_count": 69,
   "metadata": {
    "colab": {
     "base_uri": "https://localhost:8080/"
    },
    "id": "3r_lPUO6nrKN",
    "outputId": "a8457d76-ac69-4e53-fb52-ae7c8cadb3bc"
   },
   "outputs": [
    {
     "name": "stdout",
     "output_type": "stream",
     "text": [
      "New line added\n",
      "New line added\n",
      "New line added\n",
      "New line added\n",
      "New line added\n",
      "New line added\n",
      "New line added\n",
      "\n"
     ]
    }
   ],
   "source": [
    "with open(\"file.txt\", \"a+\") as file: # \"w+\"  \"r+\"\n",
    "    # content = file.read()\n",
    "\n",
    "    file.write(\"New line added\\n\")  # Write new content\n",
    "\n",
    "    file.seek(0)  # Move the file pointer to the beginning\n",
    "\n",
    "    updated_content = file.read()  # Read the updated content\n",
    "\n",
    "    print(updated_content)\n"
   ]
  },
  {
   "cell_type": "markdown",
   "metadata": {
    "id": "d2XB6ymzZJbh"
   },
   "source": [
    "**Open a file and Overwrite its content**\n",
    "\n",
    "if the file is not existed the following mode will create it"
   ]
  },
  {
   "cell_type": "code",
   "execution_count": 13,
   "metadata": {
    "colab": {
     "base_uri": "https://localhost:8080/"
    },
    "id": "DCwYE970Ub1H",
    "outputId": "48262b07-cd99-4816-dea4-437e559e007a"
   },
   "outputs": [
    {
     "name": "stdout",
     "output_type": "stream",
     "text": [
      "Hello\n"
     ]
    }
   ],
   "source": [
    "f = open(\"test1.txt\", \"w\")\n",
    "f.write(\"Hello\")\n",
    "f.close()\n",
    "\n",
    "f = open(\"test1.txt\", \"r\")\n",
    "print(f.read())\n",
    "f.close()\n"
   ]
  },
  {
   "cell_type": "markdown",
   "metadata": {
    "id": "mGv6gRAgaTJS"
   },
   "source": [
    "**Open a file and write into it without overwritting the content**\n",
    "\n",
    "if the file is not existed the following mode will create it"
   ]
  },
  {
   "cell_type": "code",
   "execution_count": 23,
   "metadata": {
    "colab": {
     "base_uri": "https://localhost:8080/"
    },
    "id": "C7sSuj8OaWi7",
    "outputId": "64c0ecac-390a-4a93-a435-1abede75d448",
    "scrolled": true
   },
   "outputs": [
    {
     "name": "stdout",
     "output_type": "stream",
     "text": [
      "Hello\n",
      "Hello\n",
      "Hello\n",
      "\n"
     ]
    }
   ],
   "source": [
    "f = open(\"test2.txt\", \"a\")\n",
    "f.write(\"Hello\\n\")\n",
    "f.close()\n",
    "\n",
    "f = open(\"test2.txt\", \"r\")\n",
    "print(f.read())\n",
    "f.close()\n"
   ]
  },
  {
   "cell_type": "markdown",
   "metadata": {
    "collapsed": true,
    "id": "tBkcaDedUb1R"
   },
   "source": [
    "**Assignment 2**"
   ]
  },
  {
   "cell_type": "code",
   "execution_count": 89,
   "metadata": {
    "colab": {
     "base_uri": "https://localhost:8080/",
     "height": 35
    },
    "id": "zoceJN5FUb1T",
    "outputId": "b7854704-7503-4b6b-80d4-2a1015362bfa"
   },
   "outputs": [],
   "source": [
    "\"\"\"\n",
    "thanos project:\n",
    "    make a function to do the follwoing:\n",
    "        1-open the whole folder\n",
    "        2-create number of files inside it\n",
    "        3-check the len of files in that folder \n",
    "        4-delete random half of this folder\n",
    "        5- check the result\n",
    "\"\"\"\n",
    "pass"
   ]
  },
  {
   "cell_type": "code",
   "execution_count": 1,
   "metadata": {},
   "outputs": [
    {
     "ename": "NameError",
     "evalue": "name 'os' is not defined",
     "output_type": "error",
     "traceback": [
      "\u001b[1;31m---------------------------------------------------------------------------\u001b[0m",
      "\u001b[1;31mNameError\u001b[0m                                 Traceback (most recent call last)",
      "Cell \u001b[1;32mIn[1], line 4\u001b[0m\n\u001b[0;32m      2\u001b[0m \u001b[38;5;28;01mfor\u001b[39;00m i \u001b[38;5;129;01min\u001b[39;00m \u001b[38;5;28mrange\u001b[39m(\u001b[38;5;241m1\u001b[39m, \u001b[38;5;241m21\u001b[39m):\n\u001b[0;32m      3\u001b[0m     file_name \u001b[38;5;241m=\u001b[39m \u001b[38;5;124m\"\u001b[39m\u001b[38;5;124mtext_\u001b[39m\u001b[38;5;124m\"\u001b[39m \u001b[38;5;241m+\u001b[39m \u001b[38;5;28mstr\u001b[39m(i) \u001b[38;5;241m+\u001b[39m \u001b[38;5;124m\"\u001b[39m\u001b[38;5;124m.txt\u001b[39m\u001b[38;5;124m\"\u001b[39m\n\u001b[1;32m----> 4\u001b[0m     file_path \u001b[38;5;241m=\u001b[39m \u001b[43mos\u001b[49m\u001b[38;5;241m.\u001b[39mpath\u001b[38;5;241m.\u001b[39mjoin(base_path, file_name)\n\u001b[0;32m      6\u001b[0m     f \u001b[38;5;241m=\u001b[39m \u001b[38;5;28mopen\u001b[39m(file_path, \u001b[38;5;124m\"\u001b[39m\u001b[38;5;124ma\u001b[39m\u001b[38;5;124m\"\u001b[39m)\n\u001b[0;32m      7\u001b[0m     f\u001b[38;5;241m.\u001b[39mclose()\n",
      "\u001b[1;31mNameError\u001b[0m: name 'os' is not defined"
     ]
    }
   ],
   "source": [
    "base_path = \"tmp_directory\"\n",
    "for i in range(1, 21):\n",
    "    file_name = \"text_\" + str(i) + \".txt\"\n",
    "    file_path = os.path.join(base_path, file_name)\n",
    "    \n",
    "    f = open(file_path, \"a\")\n",
    "    f.close()"
   ]
  },
  {
   "cell_type": "code",
   "execution_count": 88,
   "metadata": {
    "scrolled": true
   },
   "outputs": [],
   "source": [
    "import random\n",
    "\n",
    "path = \"tmp_directory\"\n",
    "file_names = os.listdir(path)\n",
    "num_files = len(dir_names)\n",
    "\n",
    "for i in range(int(num_files / 2)):\n",
    "    rand_indx = random.randint(1, num_files)\n",
    "    inner_path = os.path.join(path, file_names[rand_indx])\n",
    "    os.remove(inner_path)"
   ]
  },
  {
   "cell_type": "code",
   "execution_count": 94,
   "metadata": {},
   "outputs": [
    {
     "ename": "KeyboardInterrupt",
     "evalue": "Interrupted by user",
     "output_type": "error",
     "traceback": [
      "\u001b[1;31m---------------------------------------------------------------------------\u001b[0m",
      "\u001b[1;31mKeyboardInterrupt\u001b[0m                         Traceback (most recent call last)",
      "Cell \u001b[1;32mIn[94], line 1\u001b[0m\n\u001b[1;32m----> 1\u001b[0m x \u001b[38;5;241m=\u001b[39m \u001b[38;5;28;43minput\u001b[39;49m\u001b[43m(\u001b[49m\u001b[43m)\u001b[49m\n\u001b[0;32m      3\u001b[0m x\n",
      "File \u001b[1;32m~\\anaconda3\\lib\\site-packages\\ipykernel\\kernelbase.py:1175\u001b[0m, in \u001b[0;36mKernel.raw_input\u001b[1;34m(self, prompt)\u001b[0m\n\u001b[0;32m   1171\u001b[0m \u001b[38;5;28;01mif\u001b[39;00m \u001b[38;5;129;01mnot\u001b[39;00m \u001b[38;5;28mself\u001b[39m\u001b[38;5;241m.\u001b[39m_allow_stdin:\n\u001b[0;32m   1172\u001b[0m     \u001b[38;5;28;01mraise\u001b[39;00m StdinNotImplementedError(\n\u001b[0;32m   1173\u001b[0m         \u001b[38;5;124m\"\u001b[39m\u001b[38;5;124mraw_input was called, but this frontend does not support input requests.\u001b[39m\u001b[38;5;124m\"\u001b[39m\n\u001b[0;32m   1174\u001b[0m     )\n\u001b[1;32m-> 1175\u001b[0m \u001b[38;5;28;01mreturn\u001b[39;00m \u001b[38;5;28;43mself\u001b[39;49m\u001b[38;5;241;43m.\u001b[39;49m\u001b[43m_input_request\u001b[49m\u001b[43m(\u001b[49m\n\u001b[0;32m   1176\u001b[0m \u001b[43m    \u001b[49m\u001b[38;5;28;43mstr\u001b[39;49m\u001b[43m(\u001b[49m\u001b[43mprompt\u001b[49m\u001b[43m)\u001b[49m\u001b[43m,\u001b[49m\n\u001b[0;32m   1177\u001b[0m \u001b[43m    \u001b[49m\u001b[38;5;28;43mself\u001b[39;49m\u001b[38;5;241;43m.\u001b[39;49m\u001b[43m_parent_ident\u001b[49m\u001b[43m[\u001b[49m\u001b[38;5;124;43m\"\u001b[39;49m\u001b[38;5;124;43mshell\u001b[39;49m\u001b[38;5;124;43m\"\u001b[39;49m\u001b[43m]\u001b[49m\u001b[43m,\u001b[49m\n\u001b[0;32m   1178\u001b[0m \u001b[43m    \u001b[49m\u001b[38;5;28;43mself\u001b[39;49m\u001b[38;5;241;43m.\u001b[39;49m\u001b[43mget_parent\u001b[49m\u001b[43m(\u001b[49m\u001b[38;5;124;43m\"\u001b[39;49m\u001b[38;5;124;43mshell\u001b[39;49m\u001b[38;5;124;43m\"\u001b[39;49m\u001b[43m)\u001b[49m\u001b[43m,\u001b[49m\n\u001b[0;32m   1179\u001b[0m \u001b[43m    \u001b[49m\u001b[43mpassword\u001b[49m\u001b[38;5;241;43m=\u001b[39;49m\u001b[38;5;28;43;01mFalse\u001b[39;49;00m\u001b[43m,\u001b[49m\n\u001b[0;32m   1180\u001b[0m \u001b[43m\u001b[49m\u001b[43m)\u001b[49m\n",
      "File \u001b[1;32m~\\anaconda3\\lib\\site-packages\\ipykernel\\kernelbase.py:1217\u001b[0m, in \u001b[0;36mKernel._input_request\u001b[1;34m(self, prompt, ident, parent, password)\u001b[0m\n\u001b[0;32m   1214\u001b[0m             \u001b[38;5;28;01mbreak\u001b[39;00m\n\u001b[0;32m   1215\u001b[0m \u001b[38;5;28;01mexcept\u001b[39;00m \u001b[38;5;167;01mKeyboardInterrupt\u001b[39;00m:\n\u001b[0;32m   1216\u001b[0m     \u001b[38;5;66;03m# re-raise KeyboardInterrupt, to truncate traceback\u001b[39;00m\n\u001b[1;32m-> 1217\u001b[0m     \u001b[38;5;28;01mraise\u001b[39;00m \u001b[38;5;167;01mKeyboardInterrupt\u001b[39;00m(\u001b[38;5;124m\"\u001b[39m\u001b[38;5;124mInterrupted by user\u001b[39m\u001b[38;5;124m\"\u001b[39m) \u001b[38;5;28;01mfrom\u001b[39;00m \u001b[38;5;28mNone\u001b[39m\n\u001b[0;32m   1218\u001b[0m \u001b[38;5;28;01mexcept\u001b[39;00m \u001b[38;5;167;01mException\u001b[39;00m:\n\u001b[0;32m   1219\u001b[0m     \u001b[38;5;28mself\u001b[39m\u001b[38;5;241m.\u001b[39mlog\u001b[38;5;241m.\u001b[39mwarning(\u001b[38;5;124m\"\u001b[39m\u001b[38;5;124mInvalid Message:\u001b[39m\u001b[38;5;124m\"\u001b[39m, exc_info\u001b[38;5;241m=\u001b[39m\u001b[38;5;28;01mTrue\u001b[39;00m)\n",
      "\u001b[1;31mKeyboardInterrupt\u001b[0m: Interrupted by user"
     ]
    }
   ],
   "source": [
    "x = input()\n",
    "\n",
    "x"
   ]
  },
  {
   "cell_type": "code",
   "execution_count": null,
   "metadata": {},
   "outputs": [],
   "source": []
  },
  {
   "cell_type": "code",
   "execution_count": null,
   "metadata": {},
   "outputs": [],
   "source": []
  }
 ],
 "metadata": {
  "colab": {
   "collapsed_sections": [
    "-nwnf7dt3VF6"
   ],
   "provenance": []
  },
  "kernelspec": {
   "display_name": "Python 3",
   "language": "python",
   "name": "python3"
  },
  "language_info": {
   "codemirror_mode": {
    "name": "ipython",
    "version": 3
   },
   "file_extension": ".py",
   "mimetype": "text/x-python",
   "name": "python",
   "nbconvert_exporter": "python",
   "pygments_lexer": "ipython3",
   "version": "3.12.7"
  }
 },
 "nbformat": 4,
 "nbformat_minor": 1
}
