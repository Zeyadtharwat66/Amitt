{
 "cells": [
  {
   "cell_type": "code",
   "execution_count": 1,
   "id": "0944c363-27cb-4008-bae9-d42b8da0dbf6",
   "metadata": {},
   "outputs": [],
   "source": [
    "import tensorflow as tf\n"
   ]
  },
  {
   "cell_type": "code",
   "execution_count": 2,
   "id": "95dcdb49-5b3e-47eb-ac2f-768e2c2a5774",
   "metadata": {},
   "outputs": [],
   "source": [
    "tf.compat.v1.disable_eager_execution() #disable version 2 "
   ]
  },
  {
   "cell_type": "code",
   "execution_count": 4,
   "id": "aa24f178-d104-4ccc-9cc8-6b82b51ebefb",
   "metadata": {},
   "outputs": [
    {
     "data": {
      "text/plain": [
       "<tf.Tensor 'Const_1:0' shape=() dtype=string>"
      ]
     },
     "execution_count": 4,
     "metadata": {},
     "output_type": "execute_result"
    }
   ],
   "source": [
    "X=tf.constant(\"Tensorflow\")\n",
    "X"
   ]
  },
  {
   "cell_type": "code",
   "execution_count": 5,
   "id": "1e56037f-0e0a-4c38-be6e-1f806914edeb",
   "metadata": {},
   "outputs": [
    {
     "name": "stdout",
     "output_type": "stream",
     "text": [
      "b'Tensorflow'\n"
     ]
    }
   ],
   "source": [
    "sess=tf.compat.v1.Session()\n",
    "s=sess.run(X)\n",
    "print(s)\n",
    "sess.close()"
   ]
  },
  {
   "cell_type": "code",
   "execution_count": 6,
   "id": "11fd5be7-e3ea-4262-b53d-ced42f93e5f1",
   "metadata": {},
   "outputs": [
    {
     "data": {
      "text/plain": [
       "<tf.Tensor 'Add:0' shape=() dtype=int32>"
      ]
     },
     "execution_count": 6,
     "metadata": {},
     "output_type": "execute_result"
    }
   ],
   "source": [
    "x=tf.constant(4)\n",
    "y=tf.constant(8)\n",
    "\n",
    "z=tf.add(x,y)\n",
    "z"
   ]
  },
  {
   "cell_type": "code",
   "execution_count": 7,
   "id": "68c7f26e-c304-47c6-b96d-e19c7fbb90a7",
   "metadata": {},
   "outputs": [
    {
     "name": "stdout",
     "output_type": "stream",
     "text": [
      "12\n"
     ]
    }
   ],
   "source": [
    "with tf.compat.v1.Session() as sess:\n",
    "    res=sess.run(z)\n",
    "    print(res)"
   ]
  },
  {
   "cell_type": "code",
   "execution_count": 8,
   "id": "b086451c-5970-4f8f-9206-3df38f61a638",
   "metadata": {},
   "outputs": [],
   "source": [
    "import numpy as np \n",
    "var1=np.arange(1,13,dtype=np.int32)\n",
    "var2=np.arange(15,27,dtype=np.int32)"
   ]
  },
  {
   "cell_type": "code",
   "execution_count": 9,
   "id": "ab21c049-92a8-411f-a95d-20868e44f934",
   "metadata": {},
   "outputs": [
    {
     "data": {
      "text/plain": [
       "<tf.Tensor 'MatMul:0' shape=(3, 3) dtype=int32>"
      ]
     },
     "execution_count": 9,
     "metadata": {},
     "output_type": "execute_result"
    }
   ],
   "source": [
    "mat1=tf.constant(var1,shape=[3,4])\n",
    "mat2=tf.constant(var2,shape=[4,3])\n",
    "\n",
    "c=tf.matmul(mat1,mat2)\n",
    "c"
   ]
  },
  {
   "cell_type": "code",
   "execution_count": 10,
   "id": "4e44070c-e375-4818-9da0-f21169c497ee",
   "metadata": {},
   "outputs": [
    {
     "name": "stdout",
     "output_type": "stream",
     "text": [
      "[[210 220 230]\n",
      " [522 548 574]\n",
      " [834 876 918]]\n"
     ]
    }
   ],
   "source": [
    "with tf.compat.v1.Session() as sess:\n",
    "    print(sess.run(c))"
   ]
  },
  {
   "cell_type": "code",
   "execution_count": 11,
   "id": "331ff371-760e-4e3b-a833-e59a05ab9d94",
   "metadata": {},
   "outputs": [
    {
     "name": "stdout",
     "output_type": "stream",
     "text": [
      "[ 7  9 11 13]\n",
      "[-5 -5 -5 -5]\n",
      "[ 6 14 24 36]\n",
      "[0.16666667 0.28571429 0.375      0.44444444]\n"
     ]
    }
   ],
   "source": [
    "v1=tf.constant([1,2,3,4])\n",
    "v2=tf.constant([6,7,8,9])\n",
    "\n",
    "s=tf.add(v1,v2)\n",
    "sb=tf.subtract(v1,v2)\n",
    "m=tf.multiply(v1,v2)\n",
    "d=tf.divide(v1,v2)\n",
    "\n",
    "with tf.compat.v1.Session() as sess:\n",
    "    print(sess.run(s))\n",
    "    print(sess.run(sb))\n",
    "    print(sess.run(m))\n",
    "    print(sess.run(d))"
   ]
  },
  {
   "cell_type": "code",
   "execution_count": 22,
   "id": "bffb779a-77c6-4c9c-94e2-41eb2c7e6ff4",
   "metadata": {},
   "outputs": [
    {
     "data": {
      "text/plain": [
       "<tf.Tensor 'Add_2:0' shape=(1, 1) dtype=int32>"
      ]
     },
     "execution_count": 22,
     "metadata": {},
     "output_type": "execute_result"
    }
   ],
   "source": [
    "#h=wx+b\n",
    "w=tf.Variable([[1,2,3]],shape=(1,3))\n",
    "w\n",
    "X=tf.constant([[3],[4],[4]],shape=(3,1))\n",
    "b=tf.Variable(1)\n",
    "h=tf.add(tf.matmul(w,X),b)\n",
    "h"
   ]
  },
  {
   "cell_type": "code",
   "execution_count": 24,
   "id": "95e2eed4-cc14-40d1-99fb-77ebe19c02ef",
   "metadata": {},
   "outputs": [],
   "source": [
    "init=tf.compat.v1.global_variables_initializer()"
   ]
  },
  {
   "cell_type": "code",
   "execution_count": 25,
   "id": "b9a05617-f220-46ff-b210-130bdd11ffae",
   "metadata": {},
   "outputs": [
    {
     "name": "stdout",
     "output_type": "stream",
     "text": [
      "[[24]]\n"
     ]
    }
   ],
   "source": [
    "with tf.compat.v1.Session() as sess:\n",
    "    sess.run(init)\n",
    "    print(sess.run(h))"
   ]
  },
  {
   "cell_type": "code",
   "execution_count": null,
   "id": "866a7ed2-f7aa-4c63-8642-a41780810f0a",
   "metadata": {},
   "outputs": [],
   "source": []
  }
 ],
 "metadata": {
  "kernelspec": {
   "display_name": "Python 3 (ipykernel)",
   "language": "python",
   "name": "python3"
  },
  "language_info": {
   "codemirror_mode": {
    "name": "ipython",
    "version": 3
   },
   "file_extension": ".py",
   "mimetype": "text/x-python",
   "name": "python",
   "nbconvert_exporter": "python",
   "pygments_lexer": "ipython3",
   "version": "3.9.13"
  }
 },
 "nbformat": 4,
 "nbformat_minor": 5
}
