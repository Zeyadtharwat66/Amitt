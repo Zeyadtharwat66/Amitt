{
 "cells": [
  {
   "cell_type": "markdown",
   "id": "322657e3",
   "metadata": {},
   "source": [
    "# 1. Numpy Basics"
   ]
  },
  {
   "cell_type": "markdown",
   "id": "f721000f",
   "metadata": {},
   "source": [
    "### Import"
   ]
  },
  {
   "cell_type": "code",
   "execution_count": 2,
   "id": "9b0ed380",
   "metadata": {},
   "outputs": [],
   "source": [
    "import numpy as np"
   ]
  },
  {
   "cell_type": "markdown",
   "id": "e27ff5d5",
   "metadata": {},
   "source": [
    "### Create Numpy arrays"
   ]
  },
  {
   "cell_type": "markdown",
   "id": "28b64882",
   "metadata": {},
   "source": [
    "- **Create scalars (0-dimensional)**"
   ]
  },
  {
   "cell_type": "code",
   "execution_count": 30,
   "id": "1cf0ba68",
   "metadata": {},
   "outputs": [
    {
     "name": "stdout",
     "output_type": "stream",
     "text": [
      "5\n"
     ]
    }
   ],
   "source": [
    "s = np.array(5)\n",
    "print(s)"
   ]
  },
  {
   "cell_type": "markdown",
   "id": "3c55ccb0",
   "metadata": {},
   "source": [
    "- **Create vectors (1-dimensional)**"
   ]
  },
  {
   "cell_type": "code",
   "execution_count": 6,
   "id": "90f8a039",
   "metadata": {},
   "outputs": [
    {
     "name": "stdout",
     "output_type": "stream",
     "text": [
      "[1 2 3]\n"
     ]
    }
   ],
   "source": [
    "v = np.array([1, 2, 3])\n",
    "print(v)"
   ]
  },
  {
   "cell_type": "markdown",
   "id": "21e59cd1",
   "metadata": {},
   "source": [
    "- **Create Matrices (2-dimensional)**"
   ]
  },
  {
   "cell_type": "code",
   "execution_count": 5,
   "id": "4e35c59b",
   "metadata": {
    "scrolled": true
   },
   "outputs": [
    {
     "name": "stdout",
     "output_type": "stream",
     "text": [
      "[[1 2 3]\n",
      " [4 5 6]]\n"
     ]
    }
   ],
   "source": [
    "M = np.array([[1, 2, 3],\n",
    "              [4, 5, 6]])\n",
    "print(v)"
   ]
  },
  {
   "cell_type": "code",
   "execution_count": 5,
   "id": "4305c9e4",
   "metadata": {
    "scrolled": true
   },
   "outputs": [
    {
     "name": "stdout",
     "output_type": "stream",
     "text": [
      "[[1 2 3]\n",
      " [4 5 6]]\n"
     ]
    }
   ],
   "source": [
    "M = np.array([[1, 2, 3],\n",
    "              [4, 5, 6]])\n",
    "print(v)"
   ]
  },
  {
   "cell_type": "markdown",
   "id": "54b226ef",
   "metadata": {},
   "source": [
    "### Dimension & Shape"
   ]
  },
  {
   "cell_type": "markdown",
   "id": "314f46db",
   "metadata": {},
   "source": []
  },
  {
   "cell_type": "markdown",
   "id": "4b061253",
   "metadata": {},
   "source": [
    "- **Scalars**"
   ]
  },
  {
   "cell_type": "code",
   "execution_count": 35,
   "id": "0a295a94",
   "metadata": {},
   "outputs": [
    {
     "name": "stdout",
     "output_type": "stream",
     "text": [
      "0\n",
      "()\n"
     ]
    }
   ],
   "source": [
    "s = np.array(5)\n",
    "print(s.ndim)\n",
    "print(s.shape)"
   ]
  },
  {
   "cell_type": "code",
   "execution_count": 30,
   "id": "dc4f50cb",
   "metadata": {},
   "outputs": [
    {
     "name": "stdout",
     "output_type": "stream",
     "text": [
      "5\n"
     ]
    }
   ],
   "source": [
    "s = np.array(5)\n",
    "print(s)"
   ]
  },
  {
   "cell_type": "markdown",
   "id": "eec70298",
   "metadata": {},
   "source": [
    "- **Vectors**"
   ]
  },
  {
   "cell_type": "code",
   "execution_count": 36,
   "id": "d1f6fddc",
   "metadata": {},
   "outputs": [
    {
     "name": "stdout",
     "output_type": "stream",
     "text": [
      "1\n",
      "(3,)\n"
     ]
    }
   ],
   "source": [
    "v = np.array([1, 2, 3])\n",
    "print(v.ndim)\n",
    "print(v.shape)"
   ]
  },
  {
   "cell_type": "markdown",
   "id": "320dffd5",
   "metadata": {},
   "source": [
    "- **Matrices**"
   ]
  },
  {
   "cell_type": "code",
   "execution_count": 37,
   "id": "5adaa9e5",
   "metadata": {
    "scrolled": true
   },
   "outputs": [
    {
     "name": "stdout",
     "output_type": "stream",
     "text": [
      "2\n",
      "(2, 3)\n"
     ]
    }
   ],
   "source": [
    "M = np.array([[1, 2, 3],\n",
    "              [4, 5, 6]])\n",
    "print(M.ndim)\n",
    "print(M.shape)"
   ]
  },
  {
   "cell_type": "markdown",
   "id": "89ceb4d1",
   "metadata": {},
   "source": [
    "### Reshape"
   ]
  },
  {
   "cell_type": "code",
   "execution_count": 115,
   "id": "e6b3b0fa",
   "metadata": {
    "scrolled": true
   },
   "outputs": [
    {
     "data": {
      "text/plain": [
       "array([[1, 2],\n",
       "       [3, 4],\n",
       "       [5, 6]])"
      ]
     },
     "execution_count": 115,
     "metadata": {},
     "output_type": "execute_result"
    }
   ],
   "source": [
    "vec = np.array([1, 2, 3, 4, 5, 6])\n",
    "mat = vec.reshape((3, 2))\n",
    "mat"
   ]
  },
  {
   "cell_type": "markdown",
   "id": "98b24ed5",
   "metadata": {},
   "source": [
    "### Add New Dimension"
   ]
  },
  {
   "cell_type": "markdown",
   "id": "078ad2e7",
   "metadata": {},
   "source": [
    "- **add dimension using `reshape`**"
   ]
  },
  {
   "cell_type": "code",
   "execution_count": 113,
   "id": "8eb3fa34",
   "metadata": {
    "scrolled": true
   },
   "outputs": [
    {
     "name": "stdout",
     "output_type": "stream",
     "text": [
      "[[1]\n",
      " [2]\n",
      " [3]\n",
      " [4]]\n"
     ]
    }
   ],
   "source": [
    "vec = np.array([1, 2, 3, 4])\n",
    "mat = vec.reshape((vec.shape[0], 1))\n",
    "print(mat)"
   ]
  },
  {
   "cell_type": "code",
   "execution_count": 115,
   "id": "22199042",
   "metadata": {
    "scrolled": true
   },
   "outputs": [
    {
     "data": {
      "text/plain": [
       "array([[1],\n",
       "       [2],\n",
       "       [3],\n",
       "       [4]])"
      ]
     },
     "execution_count": 115,
     "metadata": {},
     "output_type": "execute_result"
    }
   ],
   "source": [
    "vec = np.array([1, 2, 3, 4])\n",
    "mat = vec.reshape((-1, 1))\n",
    "mat"
   ]
  },
  {
   "cell_type": "markdown",
   "id": "37d3d29d",
   "metadata": {},
   "source": [
    "- **add dimension using `None`**"
   ]
  },
  {
   "cell_type": "code",
   "execution_count": 116,
   "id": "e28c03d0",
   "metadata": {},
   "outputs": [
    {
     "data": {
      "text/plain": [
       "array([[1],\n",
       "       [2],\n",
       "       [3],\n",
       "       [4]])"
      ]
     },
     "execution_count": 116,
     "metadata": {},
     "output_type": "execute_result"
    }
   ],
   "source": [
    "vec = np.array([1, 2, 3, 4])\n",
    "mat = vec[:, None]\n",
    "mat"
   ]
  },
  {
   "cell_type": "code",
   "execution_count": 117,
   "id": "b9b6cc8c",
   "metadata": {},
   "outputs": [
    {
     "data": {
      "text/plain": [
       "array([[1, 2, 3, 4]])"
      ]
     },
     "execution_count": 117,
     "metadata": {},
     "output_type": "execute_result"
    }
   ],
   "source": [
    "vec = np.array([1, 2, 3, 4])\n",
    "mat = vec[None, :]\n",
    "mat"
   ]
  },
  {
   "cell_type": "markdown",
   "id": "a545f248",
   "metadata": {},
   "source": [
    "### Dtypes"
   ]
  },
  {
   "cell_type": "markdown",
   "id": "da3455a0",
   "metadata": {},
   "source": [
    "- **Int**"
   ]
  },
  {
   "cell_type": "code",
   "execution_count": 59,
   "id": "5e914736",
   "metadata": {
    "scrolled": false
   },
   "outputs": [
    {
     "name": "stdout",
     "output_type": "stream",
     "text": [
      "int32\n"
     ]
    }
   ],
   "source": [
    "mat = np.array([[1, 2, 3],\n",
    "                [4, 5, 6],\n",
    "                [7, 8, 9]])\n",
    "print(mat.dtype)"
   ]
  },
  {
   "cell_type": "code",
   "execution_count": 61,
   "id": "80e84b2e",
   "metadata": {
    "scrolled": true
   },
   "outputs": [
    {
     "name": "stdout",
     "output_type": "stream",
     "text": [
      "int32\n"
     ]
    }
   ],
   "source": [
    "mat = np.array([[1, 2, 3],\n",
    "                [True, 5, 6],\n",
    "                [7, 8, 9]])\n",
    "print(mat.dtype)"
   ]
  },
  {
   "cell_type": "markdown",
   "id": "03ed964b",
   "metadata": {},
   "source": [
    "- **Float**"
   ]
  },
  {
   "cell_type": "code",
   "execution_count": 60,
   "id": "421577ee",
   "metadata": {},
   "outputs": [
    {
     "name": "stdout",
     "output_type": "stream",
     "text": [
      "float64\n"
     ]
    }
   ],
   "source": [
    "mat = np.array([[.1, 2, 3],\n",
    "                [4, 5, 6],\n",
    "                [7, 8, 9]])\n",
    "print(mat.dtype)"
   ]
  },
  {
   "cell_type": "markdown",
   "id": "e5381295",
   "metadata": {},
   "source": [
    "- **String**"
   ]
  },
  {
   "cell_type": "code",
   "execution_count": 62,
   "id": "d6a0c762",
   "metadata": {
    "scrolled": true
   },
   "outputs": [
    {
     "name": "stdout",
     "output_type": "stream",
     "text": [
      "<U11\n"
     ]
    }
   ],
   "source": [
    "mat = np.array([[1, 2, 3],\n",
    "                [4, \"5\", 6],\n",
    "                [7, 8, 9]])\n",
    "print(mat.dtype)"
   ]
  },
  {
   "cell_type": "code",
   "execution_count": 63,
   "id": "d92b61fa",
   "metadata": {},
   "outputs": [
    {
     "name": "stdout",
     "output_type": "stream",
     "text": [
      "<U32\n"
     ]
    }
   ],
   "source": [
    "mat = np.array([[.1 , 2, 3],\n",
    "                [ 4 , 5, 6],\n",
    "                [\"t\", 8, 9]])\n",
    "print(mat.dtype)"
   ]
  },
  {
   "cell_type": "markdown",
   "id": "745010b3",
   "metadata": {},
   "source": [
    "- **Object**"
   ]
  },
  {
   "cell_type": "code",
   "execution_count": 65,
   "id": "3b273c06",
   "metadata": {},
   "outputs": [
    {
     "name": "stdout",
     "output_type": "stream",
     "text": [
      "object\n"
     ]
    }
   ],
   "source": [
    "class C:\n",
    "    pass\n",
    "o1, o2, o3, o4 = C(), C(), C(), C()\n",
    "mat = np.array([[o1, o2],\n",
    "                [o3, o4]])\n",
    "print(mat.dtype)"
   ]
  },
  {
   "cell_type": "code",
   "execution_count": 66,
   "id": "7fd22e66",
   "metadata": {
    "scrolled": true
   },
   "outputs": [
    {
     "name": "stdout",
     "output_type": "stream",
     "text": [
      "object\n"
     ]
    }
   ],
   "source": [
    "class C:\n",
    "    x = 3\n",
    "o1 = C()\n",
    "mat = np.array([[o1, 1],\n",
    "                [3, 2]])\n",
    "print(mat.dtype)"
   ]
  },
  {
   "cell_type": "markdown",
   "id": "273914d9",
   "metadata": {},
   "source": [
    "### Change dtype of np array"
   ]
  },
  {
   "cell_type": "code",
   "execution_count": 1,
   "id": "5a350b4f",
   "metadata": {},
   "outputs": [
    {
     "name": "stdout",
     "output_type": "stream",
     "text": [
      "[[1. 2. 3.]\n",
      " [4. 5. 6.]\n",
      " [7. 8. 9.]]\n",
      "float64\n"
     ]
    }
   ],
   "source": [
    "Mat = np.array([[1, 2, 3],\n",
    "                [4, \"5\", 6],\n",
    "                [7, 8, 9]])\n",
    "fMat = Mat.astype(float)\n",
    "print(fMat)\n",
    "print(fMat.dtype)"
   ]
  },
  {
   "cell_type": "code",
   "execution_count": 196,
   "id": "83e85d99",
   "metadata": {},
   "outputs": [
    {
     "name": "stdout",
     "output_type": "stream",
     "text": [
      "[[1 2 3]\n",
      " [4 5 6]\n",
      " [7 8 9]]\n",
      "int32\n"
     ]
    }
   ],
   "source": [
    "Mat = np.array([[1, 2, 3],\n",
    "                [4, \"5\", 6],\n",
    "                [7, 8, 9]])\n",
    "fMat = Mat.astype(int)\n",
    "print(fMat)\n",
    "print(fMat.dtype)"
   ]
  },
  {
   "cell_type": "code",
   "execution_count": 67,
   "id": "1158a7fe",
   "metadata": {
    "scrolled": true
   },
   "outputs": [
    {
     "name": "stdout",
     "output_type": "stream",
     "text": [
      "[['1' '2' '3']\n",
      " ['4' '5' '6']\n",
      " ['7' '8' '9']]\n",
      "<U11\n"
     ]
    }
   ],
   "source": [
    "Mat = np.array([[1, 2, 3],\n",
    "                [4, 5, 6],\n",
    "                [7, 8, 9]])\n",
    "fMat = Mat.astype(str)\n",
    "print(fMat)\n",
    "print(fMat.dtype)"
   ]
  },
  {
   "cell_type": "markdown",
   "id": "deea8174",
   "metadata": {},
   "source": [
    "### Indexing and Slicing"
   ]
  },
  {
   "cell_type": "markdown",
   "id": "603e016f",
   "metadata": {},
   "source": [
    "- **Vector index**"
   ]
  },
  {
   "cell_type": "code",
   "execution_count": 74,
   "id": "d2065968",
   "metadata": {},
   "outputs": [
    {
     "data": {
      "text/plain": [
       "2"
      ]
     },
     "execution_count": 74,
     "metadata": {},
     "output_type": "execute_result"
    }
   ],
   "source": [
    "v = np.array([3, 2, 5, 1])\n",
    "v[1]"
   ]
  },
  {
   "cell_type": "markdown",
   "id": "7314b920",
   "metadata": {},
   "source": [
    "- **Vector inverse index**"
   ]
  },
  {
   "cell_type": "code",
   "execution_count": 75,
   "id": "40670f24",
   "metadata": {},
   "outputs": [
    {
     "data": {
      "text/plain": [
       "5"
      ]
     },
     "execution_count": 75,
     "metadata": {},
     "output_type": "execute_result"
    }
   ],
   "source": [
    "v = np.array([3, 2, 5, 1])\n",
    "v[-2]"
   ]
  },
  {
   "cell_type": "markdown",
   "id": "e4e95c56",
   "metadata": {},
   "source": [
    "- **Matrix index**"
   ]
  },
  {
   "cell_type": "code",
   "execution_count": 77,
   "id": "dcc4f3df",
   "metadata": {},
   "outputs": [
    {
     "data": {
      "text/plain": [
       "6"
      ]
     },
     "execution_count": 77,
     "metadata": {},
     "output_type": "execute_result"
    }
   ],
   "source": [
    "M = np.array([[1, 2, 3],\n",
    "              [4, 5, 6],\n",
    "              [7, 8, 9],\n",
    "              [0, 0, 0]])\n",
    "M[1, 2]"
   ]
  },
  {
   "cell_type": "markdown",
   "id": "a1e94287",
   "metadata": {},
   "source": [
    "- **Matrix inverse index**"
   ]
  },
  {
   "cell_type": "code",
   "execution_count": 78,
   "id": "d1abf609",
   "metadata": {},
   "outputs": [
    {
     "data": {
      "text/plain": [
       "5"
      ]
     },
     "execution_count": 78,
     "metadata": {},
     "output_type": "execute_result"
    }
   ],
   "source": [
    "M = np.array([[1, 2, 3],\n",
    "              [4, 5, 6],\n",
    "              [7, 8, 9],\n",
    "              [0, 0, 0]])\n",
    "M[1, -2]"
   ]
  },
  {
   "cell_type": "markdown",
   "id": "5e12e7a9",
   "metadata": {},
   "source": [
    "- **Vector slicing**"
   ]
  },
  {
   "cell_type": "code",
   "execution_count": 80,
   "id": "3783bfcf",
   "metadata": {},
   "outputs": [
    {
     "data": {
      "text/plain": [
       "array([5, 1, 2])"
      ]
     },
     "execution_count": 80,
     "metadata": {},
     "output_type": "execute_result"
    }
   ],
   "source": [
    "v = np.array([3, 2, 5, 1, 2, 3, 0])\n",
    "v[2:5]"
   ]
  },
  {
   "cell_type": "markdown",
   "id": "5aa92e1e",
   "metadata": {},
   "source": [
    "- **Vector inverse slicing**"
   ]
  },
  {
   "cell_type": "code",
   "execution_count": 82,
   "id": "fddb6206",
   "metadata": {},
   "outputs": [
    {
     "data": {
      "text/plain": [
       "array([2, 3])"
      ]
     },
     "execution_count": 82,
     "metadata": {},
     "output_type": "execute_result"
    }
   ],
   "source": [
    "v = np.array([3, 2, 5, 1, 2, 3, 0])\n",
    "v[-3:-1]"
   ]
  },
  {
   "cell_type": "markdown",
   "id": "ee54eccf",
   "metadata": {},
   "source": [
    "- **Matrix slicing**"
   ]
  },
  {
   "cell_type": "code",
   "execution_count": 84,
   "id": "5155820a",
   "metadata": {},
   "outputs": [
    {
     "data": {
      "text/plain": [
       "array([[4, 5],\n",
       "       [7, 8]])"
      ]
     },
     "execution_count": 84,
     "metadata": {},
     "output_type": "execute_result"
    }
   ],
   "source": [
    "M = np.array([[1, 2, 3],\n",
    "              [4, 5, 6],\n",
    "              [7, 8, 9],\n",
    "              [0, 0, 0]])\n",
    "M[1:3, 0:2]"
   ]
  },
  {
   "cell_type": "markdown",
   "id": "fff3336e",
   "metadata": {},
   "source": [
    "- **Matrix inverse Slicing**"
   ]
  },
  {
   "cell_type": "code",
   "execution_count": 92,
   "id": "ad3703eb",
   "metadata": {},
   "outputs": [
    {
     "data": {
      "text/plain": [
       "array([[4, 5],\n",
       "       [7, 8]])"
      ]
     },
     "execution_count": 92,
     "metadata": {},
     "output_type": "execute_result"
    }
   ],
   "source": [
    "M = np.array([[1, 2, 3],\n",
    "              [4, 5, 6],\n",
    "              [7, 8, 9],\n",
    "              [0, 0, 0]])\n",
    "M[-3:-1, -3:-1]"
   ]
  },
  {
   "attachments": {},
   "cell_type": "markdown",
   "id": "24b4ba9a",
   "metadata": {},
   "source": [
    "### Transpose"
   ]
  },
  {
   "cell_type": "code",
   "execution_count": 143,
   "id": "981b060d",
   "metadata": {},
   "outputs": [
    {
     "name": "stdout",
     "output_type": "stream",
     "text": [
      "[[1 4 7]\n",
      " [2 5 8]\n",
      " [3 6 9]]\n"
     ]
    }
   ],
   "source": [
    "Mat = np.array([[1, 2, 3],\n",
    "                [4, 5, 6],\n",
    "                [7, 8, 9]])\n",
    "MatT = Mat.T\n",
    "print(MatT)"
   ]
  },
  {
   "cell_type": "markdown",
   "id": "78f589fd",
   "metadata": {},
   "source": [
    "# 2. Quick array creation"
   ]
  },
  {
   "cell_type": "markdown",
   "id": "073214ee",
   "metadata": {},
   "source": [
    "**zeros()**\n",
    "- create an array of the specified size with the contents filled with zero values."
   ]
  },
  {
   "cell_type": "code",
   "execution_count": 74,
   "id": "6b685e84",
   "metadata": {},
   "outputs": [
    {
     "data": {
      "text/plain": [
       "array([[0., 0., 0., 0.],\n",
       "       [0., 0., 0., 0.],\n",
       "       [0., 0., 0., 0.]])"
      ]
     },
     "execution_count": 74,
     "metadata": {},
     "output_type": "execute_result"
    }
   ],
   "source": [
    "mat = np.zeros((3,4))\n",
    "mat"
   ]
  },
  {
   "cell_type": "markdown",
   "id": "c478b867",
   "metadata": {},
   "source": [
    "**ones()**\n",
    "- create a new array of the specified size with the contents filled with one values."
   ]
  },
  {
   "cell_type": "code",
   "execution_count": 76,
   "id": "8424672f",
   "metadata": {},
   "outputs": [
    {
     "data": {
      "text/plain": [
       "array([[1., 1., 1., 1.],\n",
       "       [1., 1., 1., 1.],\n",
       "       [1., 1., 1., 1.]])"
      ]
     },
     "execution_count": 76,
     "metadata": {},
     "output_type": "execute_result"
    }
   ],
   "source": [
    "mat = np.ones((3, 4))\n",
    "mat"
   ]
  },
  {
   "cell_type": "markdown",
   "id": "c1dce802",
   "metadata": {},
   "source": [
    "**full()**\n",
    "- Create a new array of the specified shape with the contents filled with a specified value"
   ]
  },
  {
   "cell_type": "code",
   "execution_count": null,
   "id": "47056701",
   "metadata": {
    "scrolled": true
   },
   "outputs": [
    {
     "data": {
      "text/plain": [
       "array([[5, 5, 5],\n",
       "       [5, 5, 5],\n",
       "       [5, 5, 5]])"
      ]
     },
     "execution_count": 69,
     "metadata": {},
     "output_type": "execute_result"
    }
   ],
   "source": [
    "mat = np.full((3, 3),5)\n",
    "mat"
   ]
  },
  {
   "cell_type": "markdown",
   "id": "aca8f810",
   "metadata": {},
   "source": [
    "**empty()**\n",
    "- The values are not drawn from any specific distribution, and they are not guaranteed to be the same across different platforms or runs of the program.\n",
    "- sed to create arrays quickly when you plan to fill them with meaningful values later."
   ]
  },
  {
   "cell_type": "code",
   "execution_count": 71,
   "id": "480e1fc7",
   "metadata": {
    "scrolled": true
   },
   "outputs": [
    {
     "data": {
      "text/plain": [
       "array([[0.1, 2. , 3. ],\n",
       "       [4. , 5. , 6. ],\n",
       "       [7. , 8. , 9. ]])"
      ]
     },
     "execution_count": 71,
     "metadata": {},
     "output_type": "execute_result"
    }
   ],
   "source": [
    "mat = np.empty((3,3))\n",
    "mat"
   ]
  },
  {
   "cell_type": "markdown",
   "id": "f45247b9",
   "metadata": {},
   "source": [
    "**arange()**\n",
    "- Generates values starting from a given start value, incrementing by a step.\n",
    "- arange(start, stop, step)."
   ]
  },
  {
   "cell_type": "code",
   "execution_count": 9,
   "id": "1b39632c",
   "metadata": {},
   "outputs": [
    {
     "data": {
      "text/plain": [
       "array([  0,  90, 180, 270, 360])"
      ]
     },
     "execution_count": 9,
     "metadata": {},
     "output_type": "execute_result"
    }
   ],
   "source": [
    "angles = np.arange(0, 361, 90)\n",
    "angles"
   ]
  },
  {
   "cell_type": "markdown",
   "id": "02392ce3",
   "metadata": {},
   "source": [
    "**Linspace()**\n",
    "- Is used to create an array of evenly spaced values within a specified range. \n",
    "- For example, np.linspace(0, 10, num=20) will create an array of 20 evenly spaced values between 0 and 10, including both 0 and 10.\n",
    "- Note that by default num is equal to 50."
   ]
  },
  {
   "cell_type": "code",
   "execution_count": 5,
   "id": "770c9d02",
   "metadata": {},
   "outputs": [
    {
     "data": {
      "text/plain": [
       "array([ 0.        ,  1.11111111,  2.22222222,  3.33333333,  4.44444444,\n",
       "        5.55555556,  6.66666667,  7.77777778,  8.88888889, 10.        ])"
      ]
     },
     "execution_count": 5,
     "metadata": {},
     "output_type": "execute_result"
    }
   ],
   "source": [
    "vec = np.linspace(0, 10, num=10)\n",
    "vec"
   ]
  },
  {
   "cell_type": "code",
   "execution_count": 70,
   "id": "75d99d2d",
   "metadata": {
    "scrolled": true
   },
   "outputs": [
    {
     "data": {
      "text/plain": [
       "array([[ 0.        ,  0.41666667,  0.83333333,  1.25      ,  1.66666667],\n",
       "       [ 2.08333333,  2.5       ,  2.91666667,  3.33333333,  3.75      ],\n",
       "       [ 4.16666667,  4.58333333,  5.        ,  5.41666667,  5.83333333],\n",
       "       [ 6.25      ,  6.66666667,  7.08333333,  7.5       ,  7.91666667],\n",
       "       [ 8.33333333,  8.75      ,  9.16666667,  9.58333333, 10.        ]])"
      ]
     },
     "execution_count": 70,
     "metadata": {},
     "output_type": "execute_result"
    }
   ],
   "source": [
    "# to create 10X10 Matrix\n",
    "vec = np.linspace(0, 10, num=25)\n",
    "Mat = vec.reshape(5, 5)\n",
    "Mat"
   ]
  },
  {
   "cell_type": "markdown",
   "id": "6a527ab2",
   "metadata": {},
   "source": [
    "**Identity Matrix**"
   ]
  },
  {
   "cell_type": "code",
   "execution_count": 141,
   "id": "ce7a0232",
   "metadata": {
    "scrolled": true
   },
   "outputs": [
    {
     "data": {
      "text/plain": [
       "array([[1., 0., 0.],\n",
       "       [0., 1., 0.],\n",
       "       [0., 0., 1.]], dtype=float32)"
      ]
     },
     "execution_count": 141,
     "metadata": {},
     "output_type": "execute_result"
    }
   ],
   "source": [
    "I = np.identity(3, dtype=\"float32\")\n",
    "I"
   ]
  },
  {
   "cell_type": "markdown",
   "id": "e8bb6708",
   "metadata": {},
   "source": [
    "**np.random**\n",
    "- in the following functions if you don't pass the shape it will generate a random scalar"
   ]
  },
  {
   "cell_type": "code",
   "execution_count": null,
   "id": "61554a5f",
   "metadata": {},
   "outputs": [
    {
     "data": {
      "text/plain": [
       "array([[0.09722172, 0.83765299, 0.54428848],\n",
       "       [0.81425031, 0.99812168, 0.96502651],\n",
       "       [0.32159268, 0.19904197, 0.77736707]])"
      ]
     },
     "execution_count": 71,
     "metadata": {},
     "output_type": "execute_result"
    }
   ],
   "source": [
    "# Create an array of a given shape with random values from a uniform distribution over interval [0, 1).\n",
    "np.random.random((3, 3))"
   ]
  },
  {
   "cell_type": "code",
   "execution_count": null,
   "id": "9d985f60",
   "metadata": {},
   "outputs": [
    {
     "data": {
      "text/plain": [
       "array([[ 5,  6,  5,  9,  8],\n",
       "       [ 4,  8,  5,  3,  1],\n",
       "       [ 4,  0,  2,  9,  0],\n",
       "       [ 5,  5,  3,  5,  7],\n",
       "       [ 2,  6,  8, 10,  0]])"
      ]
     },
     "execution_count": 73,
     "metadata": {},
     "output_type": "execute_result"
    }
   ],
   "source": [
    "# creat an array of a given shape with random values from a uniform distribution over interval [0, 11).\n",
    "np.random.randint(0, 11, (5, 5))\n",
    "# np.random.randint(0, 11, 5)"
   ]
  },
  {
   "cell_type": "code",
   "execution_count": null,
   "id": "d8a9d4a5",
   "metadata": {},
   "outputs": [
    {
     "data": {
      "text/plain": [
       "array([['omar', 'ali', 'ali', 'ali', 'False'],\n",
       "       ['omar', 'ali', 'False', 'ali', 'ali'],\n",
       "       ['3', '3', 'omar', 'omar', '3']], dtype='<U11')"
      ]
     },
     "execution_count": 75,
     "metadata": {},
     "output_type": "execute_result"
    }
   ],
   "source": [
    "# Create an array of the given shape with random values sampled from the elements of the array a.\n",
    "a = [\"ali\", 3, \"omar\", False]\n",
    "np.random.choice(a, size=(3, 5))"
   ]
  },
  {
   "cell_type": "markdown",
   "id": "dea21b22",
   "metadata": {},
   "source": [
    "# 3. Stacking\n",
    "- **Usage**: Concatinating two datasets vertically or horizontally\n",
    "- **Why**? we do this because sometimes you need to collect datasets from different sources, then concainate them into one dataset."
   ]
  },
  {
   "attachments": {
    "image.png": {
     "image/png": "[encoded data removed]"
    }
   },
   "cell_type": "markdown",
   "id": "044a99ad",
   "metadata": {},
   "source": [
    "**Vertical Stacking**\n",
    "1. **Rules**: they should have the same number of columns.\n",
    "![image.png](attachment:image.png)"
   ]
  },
  {
   "cell_type": "code",
   "execution_count": 58,
   "id": "3c76b7c4",
   "metadata": {
    "scrolled": true
   },
   "outputs": [
    {
     "data": {
      "text/plain": [
       "array([[1, 2, 3],\n",
       "       [0, 0, 0],\n",
       "       [4, 5, 6],\n",
       "       [1, 1, 1]])"
      ]
     },
     "execution_count": 58,
     "metadata": {},
     "output_type": "execute_result"
    }
   ],
   "source": [
    "m1 = np.array([[1, 2, 3],\n",
    "               [0, 0, 0]])\n",
    "\n",
    "m2 = np.array([[4, 5, 6],\n",
    "               [1, 1, 1]])\n",
    "\n",
    "mat = np.vstack((m1, m2))\n",
    "mat"
   ]
  },
  {
   "cell_type": "code",
   "execution_count": 92,
   "id": "d3c77e48",
   "metadata": {},
   "outputs": [
    {
     "data": {
      "text/plain": [
       "array([[1, 2, 3],\n",
       "       [4, 5, 6]])"
      ]
     },
     "execution_count": 92,
     "metadata": {},
     "output_type": "execute_result"
    }
   ],
   "source": [
    "v1 = np.array([1, 2, 3])\n",
    "\n",
    "v2 = np.array([4, 5, 6])\n",
    "mat = np.vstack((v1, v2))\n",
    "mat"
   ]
  },
  {
   "cell_type": "code",
   "execution_count": 81,
   "id": "162403c2",
   "metadata": {},
   "outputs": [
    {
     "data": {
      "text/plain": [
       "array([[1, 2, 3],\n",
       "       [4, 5, 6],\n",
       "       [7, 8, 9]])"
      ]
     },
     "execution_count": 81,
     "metadata": {},
     "output_type": "execute_result"
    }
   ],
   "source": [
    "v1 = np.array([1, 2, 3])\n",
    "v2 = np.array([4, 5, 6])\n",
    "v3 = np.array([7, 8, 9])\n",
    "mat = np.vstack((v1, v2, v3))\n",
    "mat"
   ]
  },
  {
   "attachments": {
    "image-2.png": {
     "image/png": "[encoded data removed]"
    }
   },
   "cell_type": "markdown",
   "id": "04caae6d",
   "metadata": {},
   "source": [
    "**Horizontal Stacking**\n",
    "1. **Rules**: they should have the same number of rows\n",
    "![image-2.png](attachment:image-2.png)"
   ]
  },
  {
   "cell_type": "code",
   "execution_count": 56,
   "id": "3b4b971a",
   "metadata": {},
   "outputs": [
    {
     "data": {
      "text/plain": [
       "array([[ 1,  2,  3,  4,  5,  6],\n",
       "       [ 0,  0,  0,  1,  1,  1],\n",
       "       [-1, -1, -1,  3,  3,  3]])"
      ]
     },
     "execution_count": 56,
     "metadata": {},
     "output_type": "execute_result"
    }
   ],
   "source": [
    "m1 = np.array([[1, 2, 3],\n",
    "               [0, 0, 0],\n",
    "               [-1, -1, -1]])\n",
    "m2 = np.array([[4, 5, 6],\n",
    "               [1, 1, 1], \n",
    "               [3, 3, 3]])\n",
    "mat = np.hstack((m1, m2))\n",
    "mat"
   ]
  },
  {
   "cell_type": "code",
   "execution_count": 90,
   "id": "6ba95215",
   "metadata": {},
   "outputs": [
    {
     "data": {
      "text/plain": [
       "array([1, 2, 3, 4, 5, 6, 7, 8, 9])"
      ]
     },
     "execution_count": 90,
     "metadata": {},
     "output_type": "execute_result"
    }
   ],
   "source": [
    "v1 = np.array([1, 2, 3])\n",
    "v2 = np.array([4, 5, 6])\n",
    "v3 = np.array([7, 8, 9])\n",
    "mat = np.hstack((v1, v2, v3))\n",
    "mat"
   ]
  },
  {
   "cell_type": "markdown",
   "id": "78e89764",
   "metadata": {},
   "source": [
    "# Comparison "
   ]
  },
  {
   "cell_type": "markdown",
   "id": "20605472",
   "metadata": {},
   "source": [
    "- **Compare an array to a scalar**"
   ]
  },
  {
   "cell_type": "code",
   "execution_count": null,
   "id": "98e58b0b",
   "metadata": {
    "scrolled": true
   },
   "outputs": [
    {
     "data": {
      "text/plain": [
       "array([False,  True, False,  True, False])"
      ]
     },
     "execution_count": 85,
     "metadata": {},
     "output_type": "execute_result"
    }
   ],
   "source": [
    "s = 4\n",
    "v = np.array([2, 4, 3, 4, 10])\n",
    "v == s"
   ]
  },
  {
   "cell_type": "markdown",
   "id": "3d13064a",
   "metadata": {},
   "source": [
    "- **Compare two vectors**"
   ]
  },
  {
   "cell_type": "code",
   "execution_count": null,
   "id": "ba3b978e",
   "metadata": {
    "scrolled": true
   },
   "outputs": [
    {
     "data": {
      "text/plain": [
       "array([False, False,  True,  True, False])"
      ]
     },
     "execution_count": 86,
     "metadata": {},
     "output_type": "execute_result"
    }
   ],
   "source": [
    "v1 = np.array([1, 2, 3, 4, 5])\n",
    "v2 = np.array([2, 4, 3, 4, 10])\n",
    "v1 == v2"
   ]
  },
  {
   "cell_type": "markdown",
   "id": "beaf1429",
   "metadata": {},
   "source": [
    "- **Compare two Matrices**"
   ]
  },
  {
   "cell_type": "code",
   "execution_count": null,
   "id": "986c5c0f",
   "metadata": {
    "scrolled": true
   },
   "outputs": [
    {
     "data": {
      "text/plain": [
       "array([[ True, False,  True],\n",
       "       [False,  True, False]])"
      ]
     },
     "execution_count": 87,
     "metadata": {},
     "output_type": "execute_result"
    }
   ],
   "source": [
    "mat1 = np.array([[1, 2, 3],\n",
    "                 [4, 2, 1]])\n",
    "mat2 = np.array([[1, 4, 3],\n",
    "                 [3, 2, 3]])\n",
    "mat1 == mat2"
   ]
  },
  {
   "cell_type": "markdown",
   "id": "95bb6923",
   "metadata": {},
   "source": [
    "**np.all**: returns true if the all elements follow the condition"
   ]
  },
  {
   "cell_type": "code",
   "execution_count": null,
   "id": "83af3141",
   "metadata": {},
   "outputs": [
    {
     "data": {
      "text/plain": [
       "False"
      ]
     },
     "execution_count": 89,
     "metadata": {},
     "output_type": "execute_result"
    }
   ],
   "source": [
    "v = np.array([1, 3, 4, 5, 0])\n",
    "np.all(v>=1)"
   ]
  },
  {
   "cell_type": "markdown",
   "id": "1e7a10e8",
   "metadata": {},
   "source": [
    "**np.any**: returns true if any element follows the condition"
   ]
  },
  {
   "cell_type": "code",
   "execution_count": null,
   "id": "d1713051",
   "metadata": {},
   "outputs": [
    {
     "data": {
      "text/plain": [
       "True"
      ]
     },
     "execution_count": 90,
     "metadata": {},
     "output_type": "execute_result"
    }
   ],
   "source": [
    "v = np.array([1, 2, 3, 4, 5])\n",
    "np.any(v==1)"
   ]
  },
  {
   "cell_type": "markdown",
   "id": "3291c6d0",
   "metadata": {},
   "source": [
    "**np.isclose**: Elements Comparison with tolerance"
   ]
  },
  {
   "cell_type": "code",
   "execution_count": null,
   "id": "bdccc7c4",
   "metadata": {},
   "outputs": [
    {
     "data": {
      "text/plain": [
       "array([ True,  True, False,  True, False])"
      ]
     },
     "execution_count": 91,
     "metadata": {},
     "output_type": "execute_result"
    }
   ],
   "source": [
    "v1 = np.array([1, 2, 3, 4, 5])\n",
    "v2 = np.array([2, 3, 0, 5, 3])\n",
    "np.isclose(v1, v2, atol=1)"
   ]
  },
  {
   "cell_type": "markdown",
   "id": "57c0f0d0",
   "metadata": {},
   "source": [
    "**np.allclose**:Overall Comparison with tolerance"
   ]
  },
  {
   "cell_type": "code",
   "execution_count": null,
   "id": "ec0a6137",
   "metadata": {},
   "outputs": [
    {
     "data": {
      "text/plain": [
       "True"
      ]
     },
     "execution_count": 92,
     "metadata": {},
     "output_type": "execute_result"
    }
   ],
   "source": [
    "v1 = np.array([1, 2, 3, 4, 5])\n",
    "v2 = np.array([2, 3, 4, 5, 6])\n",
    "np.allclose(v1, v2, atol=1)"
   ]
  },
  {
   "cell_type": "markdown",
   "id": "3e1b65d8",
   "metadata": {},
   "source": [
    "# Conditional Access & Modification"
   ]
  },
  {
   "cell_type": "markdown",
   "id": "b5680640",
   "metadata": {},
   "source": [
    "- **Conditional Access**"
   ]
  },
  {
   "cell_type": "code",
   "execution_count": 98,
   "id": "0f6fe025",
   "metadata": {},
   "outputs": [
    {
     "name": "stdout",
     "output_type": "stream",
     "text": [
      "[ 4  4 10]\n"
     ]
    }
   ],
   "source": [
    "v = np.array([2, 4, 3, 4, 10])\n",
    "condition = v >= 4\n",
    "conditional_access = v[condition]\n",
    "print(conditional_access)"
   ]
  },
  {
   "cell_type": "markdown",
   "id": "4e6ec872",
   "metadata": {},
   "source": [
    "- **Conditional Modification**"
   ]
  },
  {
   "cell_type": "code",
   "execution_count": 99,
   "id": "329d4492",
   "metadata": {},
   "outputs": [
    {
     "name": "stdout",
     "output_type": "stream",
     "text": [
      "[ 2 -1  3 -1 -1]\n"
     ]
    }
   ],
   "source": [
    "v = np.array([2, 4, 3, 4, 10])\n",
    "condition = v >= 4\n",
    "v[condition] = -1\n",
    "print(v)"
   ]
  },
  {
   "cell_type": "markdown",
   "id": "f8bd486d",
   "metadata": {},
   "source": [
    "- **Conditional Modification using np.where**"
   ]
  },
  {
   "cell_type": "code",
   "execution_count": 109,
   "id": "2f843001",
   "metadata": {},
   "outputs": [
    {
     "name": "stdout",
     "output_type": "stream",
     "text": [
      "[ 2 -1  3 -1 -1]\n"
     ]
    }
   ],
   "source": [
    "# example 1\n",
    "v = np.array([2, 4, 3, 4, 10])\n",
    "condition = v >= 4\n",
    "new_arr = np.where(condition, -1, v)\n",
    "print(new_arr)"
   ]
  },
  {
   "cell_type": "code",
   "execution_count": 110,
   "id": "23434b3f",
   "metadata": {},
   "outputs": [
    {
     "name": "stdout",
     "output_type": "stream",
     "text": [
      "[10  9  8  0  0]\n"
     ]
    }
   ],
   "source": [
    "# example 2\n",
    "arr = np.array([1, 2, 3, 4, 5])\n",
    "a = np.array([10, 9, 8, 7, 5])\n",
    "\n",
    "new_arr = np.where(arr > 3, 0, a)# replace every value in array a whose corresponding value in array arr \n",
    "                                 #satisfies the condition arr > 3\n",
    "print(new_arr)"
   ]
  },
  {
   "cell_type": "markdown",
   "id": "41e5289d",
   "metadata": {},
   "source": [
    "# Array BroadCasting\n",
    "1. arithmetic between arrays with a different shape or size.\n",
    "2. **Rule**: column numbers should be equal."
   ]
  },
  {
   "attachments": {},
   "cell_type": "markdown",
   "id": "43ebf3b1",
   "metadata": {},
   "source": [
    "- **Vector/Scalar BroadCasting**"
   ]
  },
  {
   "cell_type": "code",
   "execution_count": 67,
   "id": "fea37a38",
   "metadata": {},
   "outputs": [
    {
     "name": "stdout",
     "output_type": "stream",
     "text": [
      "[3 6 5]\n",
      "[2 8 6]\n"
     ]
    }
   ],
   "source": [
    "v1 = np.array([1, 4, 3])\n",
    "c = 2\n",
    "summation = v1 + c\n",
    "multiplication = v1 * c\n",
    "print(summation)\n",
    "print(multiplication)"
   ]
  },
  {
   "attachments": {},
   "cell_type": "markdown",
   "id": "a4b2db8c",
   "metadata": {},
   "source": [
    "- **Matrix/Vector BroadCasting**"
   ]
  },
  {
   "cell_type": "code",
   "execution_count": 68,
   "id": "923ac507",
   "metadata": {},
   "outputs": [
    {
     "name": "stdout",
     "output_type": "stream",
     "text": [
      "[[1.5 2.2 3.1]\n",
      " [4.5 5.2 6.1]\n",
      " [7.5 8.2 9.1]]\n"
     ]
    }
   ],
   "source": [
    "Mat1 = np.array([[1, 2, 3],\n",
    "                 [4, 5, 6],\n",
    "                 [7, 8, 9]])\n",
    "v = np.array([.5, .2, .1])\n",
    "Mat2 = Mat1 + v\n",
    "print(Mat2)"
   ]
  },
  {
   "cell_type": "code",
   "execution_count": null,
   "id": "d35306b9",
   "metadata": {},
   "outputs": [],
   "source": []
  },
  {
   "cell_type": "markdown",
   "id": "60150923",
   "metadata": {},
   "source": [
    "# Delete Later"
   ]
  },
  {
   "cell_type": "code",
   "execution_count": null,
   "id": "509cedc5",
   "metadata": {},
   "outputs": [
    {
     "data": {
      "image/png": "[encoded data removed]",
      "text/plain": [
       "<Figure size 100x100 with 1 Axes>"
      ]
     },
     "metadata": {},
     "output_type": "display_data"
    }
   ],
   "source": [
    "img = np.array([[1, 1, 1, 1, 1, 1, 1, 1, 1, 1, 1, 1, 1],\n",
    "                [1, 1, 1, 0, 1, 1, 1, 1, 1, 0, 1, 1, 1],\n",
    "                [1, 1, 1, 1, 0, 1, 1, 1, 0, 1, 1, 1, 1],\n",
    "                [1, 1, 1, 0, 0, 0, 0, 0, 0, 0, 1, 1, 1],\n",
    "                [1, 1, 0, 0, 1, 0, 0, 0, 1, 0, 0, 1, 1],\n",
    "                [1, 0, 0, 0, 0, 0, 0, 0, 0, 0, 0, 0, 1],\n",
    "                [1, 0, 1, 0, 1, 1, 1, 1, 1, 0, 1, 0, 1],\n",
    "                [1, 0, 1, 0, 1, 1, 1, 1, 1, 0, 1, 0, 1],\n",
    "                [1, 1, 1, 1, 0, 0, 1, 0, 0, 1, 1, 1, 1],\n",
    "                [1, 1, 1, 1, 1, 1, 1, 1, 1, 1, 1, 1, 1]])\n",
    "import matplotlib.pyplot as plt\n",
    "plt.figure(figsize=(1, 1))\n",
    "plt.imshow(img, cmap=\"gray\")\n",
    "plt.axis(\"off\")\n",
    "plt.show()"
   ]
  },
  {
   "cell_type": "code",
   "execution_count": null,
   "id": "b2f756f0",
   "metadata": {},
   "outputs": [],
   "source": []
  }
 ],
 "metadata": {
  "kernelspec": {
   "display_name": "Python 3",
   "language": "python",
   "name": "python3"
  },
  "language_info": {
   "codemirror_mode": {
    "name": "ipython",
    "version": 3
   },
   "file_extension": ".py",
   "mimetype": "text/x-python",
   "name": "python",
   "nbconvert_exporter": "python",
   "pygments_lexer": "ipython3",
   "version": "3.13.0"
  }
 },
 "nbformat": 4,
 "nbformat_minor": 5
}
